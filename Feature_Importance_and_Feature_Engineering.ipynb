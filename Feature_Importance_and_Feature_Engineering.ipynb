{
  "nbformat": 4,
  "nbformat_minor": 0,
  "metadata": {
    "colab": {
      "provenance": []
    },
    "kernelspec": {
      "name": "python3",
      "display_name": "Python 3"
    },
    "language_info": {
      "name": "python"
    }
  },
  "cells": [
    {
      "cell_type": "code",
      "execution_count": 62,
      "metadata": {
        "id": "0SP44YIZhLAM"
      },
      "outputs": [],
      "source": [
        "import sklearn\n",
        "import pandas as pd"
      ]
    },
    {
      "cell_type": "code",
      "source": [
        "import matplotlib.pyplot as plt\n",
        "from sklearn.pipeline import Pipeline\n",
        "from sklearn.model_selection import cross_val_score\n",
        "from sklearn.feature_selection import RFE\n",
        "from sklearn.preprocessing import StandardScaler\n",
        "from sklearn.decomposition import PCA\n",
        "import numpy as np"
      ],
      "metadata": {
        "id": "k28YVFuIc8YS"
      },
      "execution_count": 4,
      "outputs": []
    },
    {
      "cell_type": "code",
      "source": [
        "\n",
        "# test classification dataset\n",
        "from sklearn.datasets import make_classification\n",
        "# define dataset\n",
        "X, y = make_classification(n_samples=1500, n_features=15, n_informative=7, n_redundant=8, random_state=42)\n",
        "# summarize the dataset\n",
        "print(X.shape, y.shape)\n",
        "X"
      ],
      "metadata": {
        "id": "vbrySRrmhwBf",
        "colab": {
          "base_uri": "https://localhost:8080/"
        },
        "outputId": "e079188a-dd1c-4481-d2e5-695cc086634e"
      },
      "execution_count": 5,
      "outputs": [
        {
          "output_type": "stream",
          "name": "stdout",
          "text": [
            "(1500, 15) (1500,)\n"
          ]
        },
        {
          "output_type": "execute_result",
          "data": {
            "text/plain": [
              "array([[-3.07909992e-02, -2.15000090e+00,  4.06113723e-01, ...,\n",
              "        -3.87102270e+00,  3.15071231e+00, -3.56439231e-01],\n",
              "       [ 2.62109174e+00,  7.80606357e-03,  2.19522420e-01, ...,\n",
              "         3.13631645e+00,  9.88027793e-01,  5.45420362e-01],\n",
              "       [ 1.64146737e+00,  5.25847861e-01,  3.60484652e-01, ...,\n",
              "         1.44732900e+00,  2.23809106e+00,  9.64208123e-01],\n",
              "       ...,\n",
              "       [-1.88101739e+00, -1.42225321e+00,  8.14127820e-01, ...,\n",
              "        -3.61370296e+00, -2.32960578e-01, -1.57726576e+00],\n",
              "       [ 1.24433222e+00, -3.19855733e+00, -3.06470444e+00, ...,\n",
              "         2.41212924e+00,  3.93355880e+00, -1.94851533e-01],\n",
              "       [-1.98870479e+00,  7.95557514e+00, -1.33655551e-01, ...,\n",
              "        -3.16058335e+00,  2.57648588e+00,  1.03829618e+01]])"
            ]
          },
          "metadata": {},
          "execution_count": 5
        }
      ]
    },
    {
      "cell_type": "code",
      "source": [
        "X_df=pd.DataFrame(X)\n",
        "X_df.head()\n"
      ],
      "metadata": {
        "id": "yZxNsvy-hzFI",
        "colab": {
          "base_uri": "https://localhost:8080/",
          "height": 206
        },
        "outputId": "3c0f56d0-8546-49c6-bc14-5fa156071a32"
      },
      "execution_count": 6,
      "outputs": [
        {
          "output_type": "execute_result",
          "data": {
            "text/plain": [
              "         0         1         2         3         4         5         6   \\\n",
              "0 -0.030791 -2.150001  0.406114  2.744499  4.111029 -3.341686  0.004778   \n",
              "1  2.621092  0.007806  0.219522  0.056599 -1.904542 -2.792696  3.178198   \n",
              "2  1.641467  0.525848  0.360485  0.950746  3.770628  0.000691  1.926858   \n",
              "3 -1.385630  1.819332 -1.849438 -2.428066  0.421719  2.500679 -4.595735   \n",
              "4  1.871680 -2.389129 -0.228013  0.328249 -0.421519 -0.917150 -2.873442   \n",
              "\n",
              "         7         8         9         10        11        12        13  \\\n",
              "0 -2.635335  3.282608  2.663295 -0.526096  5.704457 -3.871023  3.150712   \n",
              "1  0.531338 -1.034521 -1.817117  1.101963 -2.798398  3.136316  0.988028   \n",
              "2 -0.935570  3.089082 -0.587995  4.338921  0.712775  1.447329  2.238091   \n",
              "3 -2.661696 -0.122273  0.774333  1.348948 -1.177416 -2.289376 -1.615061   \n",
              "4  0.570219  0.915405 -0.490057 -2.216524 -3.271888  0.391024 -2.811050   \n",
              "\n",
              "         14  \n",
              "0 -0.356439  \n",
              "1  0.545420  \n",
              "2  0.964208  \n",
              "3  0.983485  \n",
              "4 -4.512691  "
            ],
            "text/html": [
              "\n",
              "  <div id=\"df-8cb626fb-0fa2-49c0-ad77-06d23892b0ef\">\n",
              "    <div class=\"colab-df-container\">\n",
              "      <div>\n",
              "<style scoped>\n",
              "    .dataframe tbody tr th:only-of-type {\n",
              "        vertical-align: middle;\n",
              "    }\n",
              "\n",
              "    .dataframe tbody tr th {\n",
              "        vertical-align: top;\n",
              "    }\n",
              "\n",
              "    .dataframe thead th {\n",
              "        text-align: right;\n",
              "    }\n",
              "</style>\n",
              "<table border=\"1\" class=\"dataframe\">\n",
              "  <thead>\n",
              "    <tr style=\"text-align: right;\">\n",
              "      <th></th>\n",
              "      <th>0</th>\n",
              "      <th>1</th>\n",
              "      <th>2</th>\n",
              "      <th>3</th>\n",
              "      <th>4</th>\n",
              "      <th>5</th>\n",
              "      <th>6</th>\n",
              "      <th>7</th>\n",
              "      <th>8</th>\n",
              "      <th>9</th>\n",
              "      <th>10</th>\n",
              "      <th>11</th>\n",
              "      <th>12</th>\n",
              "      <th>13</th>\n",
              "      <th>14</th>\n",
              "    </tr>\n",
              "  </thead>\n",
              "  <tbody>\n",
              "    <tr>\n",
              "      <th>0</th>\n",
              "      <td>-0.030791</td>\n",
              "      <td>-2.150001</td>\n",
              "      <td>0.406114</td>\n",
              "      <td>2.744499</td>\n",
              "      <td>4.111029</td>\n",
              "      <td>-3.341686</td>\n",
              "      <td>0.004778</td>\n",
              "      <td>-2.635335</td>\n",
              "      <td>3.282608</td>\n",
              "      <td>2.663295</td>\n",
              "      <td>-0.526096</td>\n",
              "      <td>5.704457</td>\n",
              "      <td>-3.871023</td>\n",
              "      <td>3.150712</td>\n",
              "      <td>-0.356439</td>\n",
              "    </tr>\n",
              "    <tr>\n",
              "      <th>1</th>\n",
              "      <td>2.621092</td>\n",
              "      <td>0.007806</td>\n",
              "      <td>0.219522</td>\n",
              "      <td>0.056599</td>\n",
              "      <td>-1.904542</td>\n",
              "      <td>-2.792696</td>\n",
              "      <td>3.178198</td>\n",
              "      <td>0.531338</td>\n",
              "      <td>-1.034521</td>\n",
              "      <td>-1.817117</td>\n",
              "      <td>1.101963</td>\n",
              "      <td>-2.798398</td>\n",
              "      <td>3.136316</td>\n",
              "      <td>0.988028</td>\n",
              "      <td>0.545420</td>\n",
              "    </tr>\n",
              "    <tr>\n",
              "      <th>2</th>\n",
              "      <td>1.641467</td>\n",
              "      <td>0.525848</td>\n",
              "      <td>0.360485</td>\n",
              "      <td>0.950746</td>\n",
              "      <td>3.770628</td>\n",
              "      <td>0.000691</td>\n",
              "      <td>1.926858</td>\n",
              "      <td>-0.935570</td>\n",
              "      <td>3.089082</td>\n",
              "      <td>-0.587995</td>\n",
              "      <td>4.338921</td>\n",
              "      <td>0.712775</td>\n",
              "      <td>1.447329</td>\n",
              "      <td>2.238091</td>\n",
              "      <td>0.964208</td>\n",
              "    </tr>\n",
              "    <tr>\n",
              "      <th>3</th>\n",
              "      <td>-1.385630</td>\n",
              "      <td>1.819332</td>\n",
              "      <td>-1.849438</td>\n",
              "      <td>-2.428066</td>\n",
              "      <td>0.421719</td>\n",
              "      <td>2.500679</td>\n",
              "      <td>-4.595735</td>\n",
              "      <td>-2.661696</td>\n",
              "      <td>-0.122273</td>\n",
              "      <td>0.774333</td>\n",
              "      <td>1.348948</td>\n",
              "      <td>-1.177416</td>\n",
              "      <td>-2.289376</td>\n",
              "      <td>-1.615061</td>\n",
              "      <td>0.983485</td>\n",
              "    </tr>\n",
              "    <tr>\n",
              "      <th>4</th>\n",
              "      <td>1.871680</td>\n",
              "      <td>-2.389129</td>\n",
              "      <td>-0.228013</td>\n",
              "      <td>0.328249</td>\n",
              "      <td>-0.421519</td>\n",
              "      <td>-0.917150</td>\n",
              "      <td>-2.873442</td>\n",
              "      <td>0.570219</td>\n",
              "      <td>0.915405</td>\n",
              "      <td>-0.490057</td>\n",
              "      <td>-2.216524</td>\n",
              "      <td>-3.271888</td>\n",
              "      <td>0.391024</td>\n",
              "      <td>-2.811050</td>\n",
              "      <td>-4.512691</td>\n",
              "    </tr>\n",
              "  </tbody>\n",
              "</table>\n",
              "</div>\n",
              "      <button class=\"colab-df-convert\" onclick=\"convertToInteractive('df-8cb626fb-0fa2-49c0-ad77-06d23892b0ef')\"\n",
              "              title=\"Convert this dataframe to an interactive table.\"\n",
              "              style=\"display:none;\">\n",
              "        \n",
              "  <svg xmlns=\"http://www.w3.org/2000/svg\" height=\"24px\"viewBox=\"0 0 24 24\"\n",
              "       width=\"24px\">\n",
              "    <path d=\"M0 0h24v24H0V0z\" fill=\"none\"/>\n",
              "    <path d=\"M18.56 5.44l.94 2.06.94-2.06 2.06-.94-2.06-.94-.94-2.06-.94 2.06-2.06.94zm-11 1L8.5 8.5l.94-2.06 2.06-.94-2.06-.94L8.5 2.5l-.94 2.06-2.06.94zm10 10l.94 2.06.94-2.06 2.06-.94-2.06-.94-.94-2.06-.94 2.06-2.06.94z\"/><path d=\"M17.41 7.96l-1.37-1.37c-.4-.4-.92-.59-1.43-.59-.52 0-1.04.2-1.43.59L10.3 9.45l-7.72 7.72c-.78.78-.78 2.05 0 2.83L4 21.41c.39.39.9.59 1.41.59.51 0 1.02-.2 1.41-.59l7.78-7.78 2.81-2.81c.8-.78.8-2.07 0-2.86zM5.41 20L4 18.59l7.72-7.72 1.47 1.35L5.41 20z\"/>\n",
              "  </svg>\n",
              "      </button>\n",
              "      \n",
              "  <style>\n",
              "    .colab-df-container {\n",
              "      display:flex;\n",
              "      flex-wrap:wrap;\n",
              "      gap: 12px;\n",
              "    }\n",
              "\n",
              "    .colab-df-convert {\n",
              "      background-color: #E8F0FE;\n",
              "      border: none;\n",
              "      border-radius: 50%;\n",
              "      cursor: pointer;\n",
              "      display: none;\n",
              "      fill: #1967D2;\n",
              "      height: 32px;\n",
              "      padding: 0 0 0 0;\n",
              "      width: 32px;\n",
              "    }\n",
              "\n",
              "    .colab-df-convert:hover {\n",
              "      background-color: #E2EBFA;\n",
              "      box-shadow: 0px 1px 2px rgba(60, 64, 67, 0.3), 0px 1px 3px 1px rgba(60, 64, 67, 0.15);\n",
              "      fill: #174EA6;\n",
              "    }\n",
              "\n",
              "    [theme=dark] .colab-df-convert {\n",
              "      background-color: #3B4455;\n",
              "      fill: #D2E3FC;\n",
              "    }\n",
              "\n",
              "    [theme=dark] .colab-df-convert:hover {\n",
              "      background-color: #434B5C;\n",
              "      box-shadow: 0px 1px 3px 1px rgba(0, 0, 0, 0.15);\n",
              "      filter: drop-shadow(0px 1px 2px rgba(0, 0, 0, 0.3));\n",
              "      fill: #FFFFFF;\n",
              "    }\n",
              "  </style>\n",
              "\n",
              "      <script>\n",
              "        const buttonEl =\n",
              "          document.querySelector('#df-8cb626fb-0fa2-49c0-ad77-06d23892b0ef button.colab-df-convert');\n",
              "        buttonEl.style.display =\n",
              "          google.colab.kernel.accessAllowed ? 'block' : 'none';\n",
              "\n",
              "        async function convertToInteractive(key) {\n",
              "          const element = document.querySelector('#df-8cb626fb-0fa2-49c0-ad77-06d23892b0ef');\n",
              "          const dataTable =\n",
              "            await google.colab.kernel.invokeFunction('convertToInteractive',\n",
              "                                                     [key], {});\n",
              "          if (!dataTable) return;\n",
              "\n",
              "          const docLinkHtml = 'Like what you see? Visit the ' +\n",
              "            '<a target=\"_blank\" href=https://colab.research.google.com/notebooks/data_table.ipynb>data table notebook</a>'\n",
              "            + ' to learn more about interactive tables.';\n",
              "          element.innerHTML = '';\n",
              "          dataTable['output_type'] = 'display_data';\n",
              "          await google.colab.output.renderOutput(dataTable, element);\n",
              "          const docLink = document.createElement('div');\n",
              "          docLink.innerHTML = docLinkHtml;\n",
              "          element.appendChild(docLink);\n",
              "        }\n",
              "      </script>\n",
              "    </div>\n",
              "  </div>\n",
              "  "
            ]
          },
          "metadata": {},
          "execution_count": 6
        }
      ]
    },
    {
      "cell_type": "markdown",
      "source": [
        "Linear Regression, Decition Tree do not give us prediction with higher than 49% accuracy, with any number or combination of features, so these algorithms just do not work on this dataset. So, let us start with Logistic Regression\n",
        "# Logistic Regression Feature Importance and Feature Engineering"
      ],
      "metadata": {
        "id": "RzBWpIU8jlp9"
      }
    },
    {
      "cell_type": "markdown",
      "source": [],
      "metadata": {
        "id": "jxdNPX0vj5Dl"
      }
    },
    {
      "cell_type": "code",
      "source": [
        "# logistic regression for feature importance\n",
        "from sklearn.datasets import make_classification\n",
        "from sklearn.linear_model import LogisticRegression\n",
        "from matplotlib import pyplot\n",
        "\n",
        "# define the model\n",
        "model_lg = LogisticRegression()\n",
        "# fit the model\n",
        "model_lg.fit(X, y)\n",
        "# get importance\n",
        "importance = model_lg.coef_[0]\n",
        "# summarize feature importance\n",
        "for i,v in enumerate(importance):\n",
        "\tprint('Feature: %0d, Score: %.5f' % (i,v))\n",
        "# plot feature importance\n",
        "pyplot.bar([x for x in range(len(importance))], importance)\n",
        "pyplot.show()"
      ],
      "metadata": {
        "id": "ek7bGDqGkA_I",
        "colab": {
          "base_uri": "https://localhost:8080/",
          "height": 534
        },
        "outputId": "7c49868c-e0d7-4295-cad6-4b5e37887518"
      },
      "execution_count": 41,
      "outputs": [
        {
          "output_type": "stream",
          "name": "stdout",
          "text": [
            "Feature: 0, Score: -0.21307\n",
            "Feature: 1, Score: 0.18819\n",
            "Feature: 2, Score: -0.01845\n",
            "Feature: 3, Score: -0.07663\n",
            "Feature: 4, Score: -0.29523\n",
            "Feature: 5, Score: 0.52244\n",
            "Feature: 6, Score: 0.40752\n",
            "Feature: 7, Score: 0.26888\n",
            "Feature: 8, Score: -0.37708\n",
            "Feature: 9, Score: 0.02222\n",
            "Feature: 10, Score: 0.32626\n",
            "Feature: 11, Score: 0.17642\n",
            "Feature: 12, Score: 0.27968\n",
            "Feature: 13, Score: 0.14062\n",
            "Feature: 14, Score: 0.32904\n"
          ]
        },
        {
          "output_type": "display_data",
          "data": {
            "text/plain": [
              "<Figure size 432x288 with 1 Axes>"
            ],
            "image/png": "[encoded data removed]"
          },
          "metadata": {
            "needs_background": "light"
          }
        }
      ]
    },
    {
      "cell_type": "code",
      "source": [
        "cross_val_score(model_lg, X,y).mean()"
      ],
      "metadata": {
        "id": "DIYdfrAajcjy",
        "colab": {
          "base_uri": "https://localhost:8080/"
        },
        "outputId": "b7e092ad-33d4-4f7f-f9cd-6a217bfea208"
      },
      "execution_count": 15,
      "outputs": [
        {
          "output_type": "execute_result",
          "data": {
            "text/plain": [
              "0.8413333333333334"
            ]
          },
          "metadata": {},
          "execution_count": 15
        }
      ]
    },
    {
      "cell_type": "code",
      "source": [
        "# Check how many feachures we need for the highest accuracy: \n",
        "\n",
        "X, y = make_classification(n_samples=1500, n_features=15, n_informative=7, n_redundant=8, random_state=42)\n",
        "X=pd.DataFrame(X)\n",
        "features = list(range(2,16))\n",
        "mean_accuracy = []\n",
        "\n",
        "for i in features:\n",
        "  pipe     = Pipeline([('scaler', StandardScaler()), \n",
        "                     ('rfe', RFE(estimator=LogisticRegression(), n_features_to_select=i)),\n",
        "                     ('log_reg', LogisticRegression(random_state=0))])\n",
        "  \n",
        "  \n",
        "  pipe.fit(X,y)\n",
        "\n",
        "  scores = cross_val_score(pipe, X_df, y, cv=5)\n",
        "  \n",
        "  mean_accuracy.append(scores.mean())\n",
        "\n",
        "print(mean_accuracy)\n",
        "\n"
      ],
      "metadata": {
        "id": "F-T6gg9OcIeb",
        "colab": {
          "base_uri": "https://localhost:8080/"
        },
        "outputId": "19b05611-b8cc-46df-c85f-dbf254f319d4"
      },
      "execution_count": 42,
      "outputs": [
        {
          "output_type": "stream",
          "name": "stdout",
          "text": [
            "[0.7406666666666666, 0.7766666666666666, 0.8373333333333333, 0.842, 0.8379999999999999, 0.8413333333333334, 0.8413333333333334, 0.8413333333333334, 0.8406666666666667, 0.8413333333333334, 0.8406666666666667, 0.8406666666666667, 0.8406666666666667, 0.8406666666666667]\n"
          ]
        }
      ]
    },
    {
      "cell_type": "code",
      "source": [
        "\n",
        "k_df = pd.DataFrame(features)\n",
        "k_df.rename({0:'Number of Features'}, axis=1, inplace=True)\n",
        "\n",
        "mean_accuracy_df = pd.DataFrame(mean_accuracy)*100\n",
        "mean_accuracy_df.rename({0:'mean accuracy'}, axis=1, inplace=True)\n",
        "\n",
        "to_plot = pd.concat([k_df, mean_accuracy_df], axis=1)\n",
        "\n",
        "plt.plot(to_plot['Number of Features'], to_plot['mean accuracy'])\n",
        "plt.xlabel('Number of Features')\n",
        "plt.ylabel('Mean accuracy %')\n",
        "plt.show()"
      ],
      "metadata": {
        "id": "mMZat9DkiGe8",
        "colab": {
          "base_uri": "https://localhost:8080/",
          "height": 279
        },
        "outputId": "39f7ceca-b907-452c-8088-3282ef980abc"
      },
      "execution_count": 18,
      "outputs": [
        {
          "output_type": "display_data",
          "data": {
            "text/plain": [
              "<Figure size 432x288 with 1 Axes>"
            ],
            "image/png": "[encoded data removed]"
          },
          "metadata": {
            "needs_background": "light"
          }
        }
      ]
    },
    {
      "cell_type": "code",
      "source": [
        "# 5 features (out of 7 of importance) are enough for this model according to this picture. Let is try to Scale it and chose only 5 fratures: "
      ],
      "metadata": {
        "id": "IDY6tYD3_1b2"
      },
      "execution_count": null,
      "outputs": []
    },
    {
      "cell_type": "code",
      "source": [
        "pipe5     = Pipeline([('scaler', StandardScaler()), \n",
        "                     ('rfe', RFE(estimator=LogisticRegression(), n_features_to_select=5)),\n",
        "                     ('log_reg', LogisticRegression(random_state=42))])\n",
        "pipe5.fit(X,y)\n",
        "\n",
        "scores5 = cross_val_score(pipe5, X, y, cv=5)\n",
        "print(scores5.mean())"
      ],
      "metadata": {
        "id": "wgdkQN54ic3b",
        "colab": {
          "base_uri": "https://localhost:8080/"
        },
        "outputId": "36fd9ab4-3ba8-439a-ef15-86a76adb1faa"
      },
      "execution_count": 19,
      "outputs": [
        {
          "output_type": "stream",
          "name": "stdout",
          "text": [
            "0.842\n"
          ]
        }
      ]
    },
    {
      "cell_type": "code",
      "source": [
        "#Let us check which features are important and apply them directly: "
      ],
      "metadata": {
        "id": "7ki0lKQHAQxP"
      },
      "execution_count": null,
      "outputs": []
    },
    {
      "cell_type": "code",
      "source": [
        "Feature_support = pd.DataFrame(pipe5.named_steps['rfe'].support_, index=X.columns)\n",
        "Feature_support.rename({0:'Feature Support'}, axis=1, inplace=True)\n",
        "Feature_support = Feature_support.sort_values(by=['Feature Support'], ascending=False)\n",
        "print(Feature_support)"
      ],
      "metadata": {
        "id": "LrGhMtlIkJtx",
        "colab": {
          "base_uri": "https://localhost:8080/"
        },
        "outputId": "c6bf091e-0016-4cc9-b77a-d492d9ffc7ea"
      },
      "execution_count": 44,
      "outputs": [
        {
          "output_type": "stream",
          "name": "stdout",
          "text": [
            "    Feature Support\n",
            "4              True\n",
            "5              True\n",
            "6              True\n",
            "10             True\n",
            "14             True\n",
            "0             False\n",
            "1             False\n",
            "2             False\n",
            "3             False\n",
            "7             False\n",
            "8             False\n",
            "9             False\n",
            "11            False\n",
            "12            False\n",
            "13            False\n"
          ]
        }
      ]
    },
    {
      "cell_type": "code",
      "source": [
        "X_f = X[[4,5,6,10,14]]\n",
        "X_f.head(3)"
      ],
      "metadata": {
        "id": "8-N3GpAH1Dnv",
        "colab": {
          "base_uri": "https://localhost:8080/",
          "height": 143
        },
        "outputId": "c85c6ce2-60bc-4ee8-935d-4d0b1858149b"
      },
      "execution_count": 21,
      "outputs": [
        {
          "output_type": "execute_result",
          "data": {
            "text/plain": [
              "         4         5         6         10        14\n",
              "0  4.111029 -3.341686  0.004778 -0.526096 -0.356439\n",
              "1 -1.904542 -2.792696  3.178198  1.101963  0.545420\n",
              "2  3.770628  0.000691  1.926858  4.338921  0.964208"
            ],
            "text/html": [
              "\n",
              "  <div id=\"df-3b7857cb-1ee9-44ae-81df-d52e9c49bdca\">\n",
              "    <div class=\"colab-df-container\">\n",
              "      <div>\n",
              "<style scoped>\n",
              "    .dataframe tbody tr th:only-of-type {\n",
              "        vertical-align: middle;\n",
              "    }\n",
              "\n",
              "    .dataframe tbody tr th {\n",
              "        vertical-align: top;\n",
              "    }\n",
              "\n",
              "    .dataframe thead th {\n",
              "        text-align: right;\n",
              "    }\n",
              "</style>\n",
              "<table border=\"1\" class=\"dataframe\">\n",
              "  <thead>\n",
              "    <tr style=\"text-align: right;\">\n",
              "      <th></th>\n",
              "      <th>4</th>\n",
              "      <th>5</th>\n",
              "      <th>6</th>\n",
              "      <th>10</th>\n",
              "      <th>14</th>\n",
              "    </tr>\n",
              "  </thead>\n",
              "  <tbody>\n",
              "    <tr>\n",
              "      <th>0</th>\n",
              "      <td>4.111029</td>\n",
              "      <td>-3.341686</td>\n",
              "      <td>0.004778</td>\n",
              "      <td>-0.526096</td>\n",
              "      <td>-0.356439</td>\n",
              "    </tr>\n",
              "    <tr>\n",
              "      <th>1</th>\n",
              "      <td>-1.904542</td>\n",
              "      <td>-2.792696</td>\n",
              "      <td>3.178198</td>\n",
              "      <td>1.101963</td>\n",
              "      <td>0.545420</td>\n",
              "    </tr>\n",
              "    <tr>\n",
              "      <th>2</th>\n",
              "      <td>3.770628</td>\n",
              "      <td>0.000691</td>\n",
              "      <td>1.926858</td>\n",
              "      <td>4.338921</td>\n",
              "      <td>0.964208</td>\n",
              "    </tr>\n",
              "  </tbody>\n",
              "</table>\n",
              "</div>\n",
              "      <button class=\"colab-df-convert\" onclick=\"convertToInteractive('df-3b7857cb-1ee9-44ae-81df-d52e9c49bdca')\"\n",
              "              title=\"Convert this dataframe to an interactive table.\"\n",
              "              style=\"display:none;\">\n",
              "        \n",
              "  <svg xmlns=\"http://www.w3.org/2000/svg\" height=\"24px\"viewBox=\"0 0 24 24\"\n",
              "       width=\"24px\">\n",
              "    <path d=\"M0 0h24v24H0V0z\" fill=\"none\"/>\n",
              "    <path d=\"M18.56 5.44l.94 2.06.94-2.06 2.06-.94-2.06-.94-.94-2.06-.94 2.06-2.06.94zm-11 1L8.5 8.5l.94-2.06 2.06-.94-2.06-.94L8.5 2.5l-.94 2.06-2.06.94zm10 10l.94 2.06.94-2.06 2.06-.94-2.06-.94-.94-2.06-.94 2.06-2.06.94z\"/><path d=\"M17.41 7.96l-1.37-1.37c-.4-.4-.92-.59-1.43-.59-.52 0-1.04.2-1.43.59L10.3 9.45l-7.72 7.72c-.78.78-.78 2.05 0 2.83L4 21.41c.39.39.9.59 1.41.59.51 0 1.02-.2 1.41-.59l7.78-7.78 2.81-2.81c.8-.78.8-2.07 0-2.86zM5.41 20L4 18.59l7.72-7.72 1.47 1.35L5.41 20z\"/>\n",
              "  </svg>\n",
              "      </button>\n",
              "      \n",
              "  <style>\n",
              "    .colab-df-container {\n",
              "      display:flex;\n",
              "      flex-wrap:wrap;\n",
              "      gap: 12px;\n",
              "    }\n",
              "\n",
              "    .colab-df-convert {\n",
              "      background-color: #E8F0FE;\n",
              "      border: none;\n",
              "      border-radius: 50%;\n",
              "      cursor: pointer;\n",
              "      display: none;\n",
              "      fill: #1967D2;\n",
              "      height: 32px;\n",
              "      padding: 0 0 0 0;\n",
              "      width: 32px;\n",
              "    }\n",
              "\n",
              "    .colab-df-convert:hover {\n",
              "      background-color: #E2EBFA;\n",
              "      box-shadow: 0px 1px 2px rgba(60, 64, 67, 0.3), 0px 1px 3px 1px rgba(60, 64, 67, 0.15);\n",
              "      fill: #174EA6;\n",
              "    }\n",
              "\n",
              "    [theme=dark] .colab-df-convert {\n",
              "      background-color: #3B4455;\n",
              "      fill: #D2E3FC;\n",
              "    }\n",
              "\n",
              "    [theme=dark] .colab-df-convert:hover {\n",
              "      background-color: #434B5C;\n",
              "      box-shadow: 0px 1px 3px 1px rgba(0, 0, 0, 0.15);\n",
              "      filter: drop-shadow(0px 1px 2px rgba(0, 0, 0, 0.3));\n",
              "      fill: #FFFFFF;\n",
              "    }\n",
              "  </style>\n",
              "\n",
              "      <script>\n",
              "        const buttonEl =\n",
              "          document.querySelector('#df-3b7857cb-1ee9-44ae-81df-d52e9c49bdca button.colab-df-convert');\n",
              "        buttonEl.style.display =\n",
              "          google.colab.kernel.accessAllowed ? 'block' : 'none';\n",
              "\n",
              "        async function convertToInteractive(key) {\n",
              "          const element = document.querySelector('#df-3b7857cb-1ee9-44ae-81df-d52e9c49bdca');\n",
              "          const dataTable =\n",
              "            await google.colab.kernel.invokeFunction('convertToInteractive',\n",
              "                                                     [key], {});\n",
              "          if (!dataTable) return;\n",
              "\n",
              "          const docLinkHtml = 'Like what you see? Visit the ' +\n",
              "            '<a target=\"_blank\" href=https://colab.research.google.com/notebooks/data_table.ipynb>data table notebook</a>'\n",
              "            + ' to learn more about interactive tables.';\n",
              "          element.innerHTML = '';\n",
              "          dataTable['output_type'] = 'display_data';\n",
              "          await google.colab.output.renderOutput(dataTable, element);\n",
              "          const docLink = document.createElement('div');\n",
              "          docLink.innerHTML = docLinkHtml;\n",
              "          element.appendChild(docLink);\n",
              "        }\n",
              "      </script>\n",
              "    </div>\n",
              "  </div>\n",
              "  "
            ]
          },
          "metadata": {},
          "execution_count": 21
        }
      ]
    },
    {
      "cell_type": "code",
      "source": [
        "pipe_f     = Pipeline([('scaler', StandardScaler()), \n",
        "                     ('log_reg', LogisticRegression(random_state=42))])\n",
        "\n",
        "# fit the model\n",
        "pipe_f.fit(X_f, y)\n"
      ],
      "metadata": {
        "id": "9D54PpESeM_J",
        "colab": {
          "base_uri": "https://localhost:8080/"
        },
        "outputId": "121bf442-7a49-46b5-c994-4c671dd5a9bd"
      },
      "execution_count": 26,
      "outputs": [
        {
          "output_type": "execute_result",
          "data": {
            "text/plain": [
              "Pipeline(steps=[('scaler', StandardScaler()),\n",
              "                ('log_reg', LogisticRegression(random_state=42))])"
            ]
          },
          "metadata": {},
          "execution_count": 26
        }
      ]
    },
    {
      "cell_type": "code",
      "source": [
        "score = cross_val_score(pipe_f, X_f, y).mean()\n",
        "print(score)"
      ],
      "metadata": {
        "id": "XPnZGatd2GdA",
        "colab": {
          "base_uri": "https://localhost:8080/"
        },
        "outputId": "04ddd1c1-2979-46bb-b44f-e2cd8af62e29"
      },
      "execution_count": 27,
      "outputs": [
        {
          "output_type": "stream",
          "name": "stdout",
          "text": [
            "0.8426666666666668\n"
          ]
        }
      ]
    },
    {
      "cell_type": "code",
      "source": [
        "# We increase accuracy from 0.842 to 0.8426"
      ],
      "metadata": {
        "id": "qdqvIdynD0IB"
      },
      "execution_count": null,
      "outputs": []
    },
    {
      "cell_type": "markdown",
      "source": [
        "# Random Forest (regression model) Feature Importnace"
      ],
      "metadata": {
        "id": "bxKAGUbUkvXn"
      }
    },
    {
      "cell_type": "code",
      "source": [
        "\n",
        "# random forest for feature importance on a regression problem\n",
        "from sklearn.datasets import make_regression\n",
        "from sklearn.ensemble import RandomForestRegressor\n",
        "from matplotlib import pyplot\n",
        "# define dataset\n",
        "X, y = make_classification(n_samples=1500, n_features=15, n_informative=7, n_redundant=8, random_state=42)\n",
        "# define the model\n",
        "model_rf = RandomForestRegressor()\n",
        "# fit the model\n",
        "model_rf.fit(X, y)\n",
        "# get importance\n",
        "importance = model_rf.feature_importances_\n",
        "# summarize feature importance\n",
        "for i,v in enumerate(importance):\n",
        "\tprint('Feature: %0d, Score: %.5f' % (i,v))\n",
        "# plot feature importance\n",
        "pyplot.bar([x for x in range(len(importance))], importance)\n",
        "pyplot.show()"
      ],
      "metadata": {
        "id": "JcL4w9l2kv0m",
        "colab": {
          "base_uri": "https://localhost:8080/",
          "height": 534
        },
        "outputId": "74183789-cf72-43c2-90bc-72e1e83cf53a"
      },
      "execution_count": 30,
      "outputs": [
        {
          "output_type": "stream",
          "name": "stdout",
          "text": [
            "Feature: 0, Score: 0.05067\n",
            "Feature: 1, Score: 0.02679\n",
            "Feature: 2, Score: 0.03078\n",
            "Feature: 3, Score: 0.01225\n",
            "Feature: 4, Score: 0.02860\n",
            "Feature: 5, Score: 0.07521\n",
            "Feature: 6, Score: 0.12107\n",
            "Feature: 7, Score: 0.02684\n",
            "Feature: 8, Score: 0.15290\n",
            "Feature: 9, Score: 0.05235\n",
            "Feature: 10, Score: 0.31945\n",
            "Feature: 11, Score: 0.02247\n",
            "Feature: 12, Score: 0.02113\n",
            "Feature: 13, Score: 0.03203\n",
            "Feature: 14, Score: 0.02748\n"
          ]
        },
        {
          "output_type": "display_data",
          "data": {
            "text/plain": [
              "<Figure size 432x288 with 1 Axes>"
            ],
            "image/png": "[encoded data removed]"
          },
          "metadata": {
            "needs_background": "light"
          }
        }
      ]
    },
    {
      "cell_type": "code",
      "source": [
        "cross_val_score(model_rf, X,y).mean()"
      ],
      "metadata": {
        "id": "kpAlUT_q5OL1",
        "colab": {
          "base_uri": "https://localhost:8080/"
        },
        "outputId": "6c681057-8a3e-4337-be4f-a2c35ceab436"
      },
      "execution_count": 31,
      "outputs": [
        {
          "output_type": "execute_result",
          "data": {
            "text/plain": [
              "0.738864360541881"
            ]
          },
          "metadata": {},
          "execution_count": 31
        }
      ]
    },
    {
      "cell_type": "code",
      "source": [
        "pca = PCA(0.999)\n",
        "pca.fit(X)\n",
        "\n",
        "X_components = pca.transform(X)\n",
        "mod_rf = RandomForestRegressor()\n",
        "mod_rf.fit(X_components,y)\n",
        "cross_val_score(mod_rf, X_components,y).mean()"
      ],
      "metadata": {
        "id": "NhBF23cO5b9P",
        "colab": {
          "base_uri": "https://localhost:8080/"
        },
        "outputId": "c1098dfe-960c-4cce-d60e-5861bd3ee1d8"
      },
      "execution_count": 45,
      "outputs": [
        {
          "output_type": "execute_result",
          "data": {
            "text/plain": [
              "0.7473644292317072"
            ]
          },
          "metadata": {},
          "execution_count": 45
        }
      ]
    },
    {
      "cell_type": "code",
      "source": [
        "# Implementation of PCA gave us 1.1% better accuracy"
      ],
      "metadata": {
        "id": "LhkPVmqB5ArX"
      },
      "execution_count": null,
      "outputs": []
    },
    {
      "cell_type": "markdown",
      "source": [
        "# Random Forest (classification) Feature Importance"
      ],
      "metadata": {
        "id": "za_g_ZfalLAu"
      }
    },
    {
      "cell_type": "code",
      "source": [
        "\n",
        "# random forest for feature importance on a classification problem\n",
        "from sklearn.datasets import make_classification\n",
        "from sklearn.ensemble import RandomForestClassifier\n",
        "from matplotlib import pyplot\n",
        "# define dataset\n",
        "X, y = make_classification(n_samples=1500, n_features=15, n_informative=7, n_redundant=8, random_state=42)\n",
        "# define the model\n",
        "model_rfc = RandomForestClassifier(random_state=42)\n",
        "# fit the model\n",
        "model_rfc.fit(X, y)\n",
        "# get importance\n",
        "importance = model_rfc.feature_importances_\n",
        "# summarize feature importance\n",
        "for i,v in enumerate(importance):\n",
        "\tprint('Feature: %0d, Score: %.5f' % (i,v))\n",
        "# plot feature importance\n",
        "pyplot.bar([x for x in range(len(importance))], importance)\n",
        "pyplot.show()"
      ],
      "metadata": {
        "id": "Ag9wGBRplLae",
        "colab": {
          "base_uri": "https://localhost:8080/",
          "height": 534
        },
        "outputId": "0bd5d63c-e4c2-4815-a15d-dd0d5d0cc36c"
      },
      "execution_count": 46,
      "outputs": [
        {
          "output_type": "stream",
          "name": "stdout",
          "text": [
            "Feature: 0, Score: 0.06087\n",
            "Feature: 1, Score: 0.04391\n",
            "Feature: 2, Score: 0.06735\n",
            "Feature: 3, Score: 0.03356\n",
            "Feature: 4, Score: 0.06223\n",
            "Feature: 5, Score: 0.11077\n",
            "Feature: 6, Score: 0.07449\n",
            "Feature: 7, Score: 0.04098\n",
            "Feature: 8, Score: 0.09490\n",
            "Feature: 9, Score: 0.04291\n",
            "Feature: 10, Score: 0.18552\n",
            "Feature: 11, Score: 0.03219\n",
            "Feature: 12, Score: 0.03746\n",
            "Feature: 13, Score: 0.05218\n",
            "Feature: 14, Score: 0.06070\n"
          ]
        },
        {
          "output_type": "display_data",
          "data": {
            "text/plain": [
              "<Figure size 432x288 with 1 Axes>"
            ],
            "image/png": "[encoded data removed]"
          },
          "metadata": {
            "needs_background": "light"
          }
        }
      ]
    },
    {
      "cell_type": "code",
      "source": [
        "cross_val_score(model_rfc,X,y).mean()"
      ],
      "metadata": {
        "id": "0cAxwSRh8UKX",
        "colab": {
          "base_uri": "https://localhost:8080/"
        },
        "outputId": "8b458fd8-abce-4d4d-d1da-80c3a54d6a5b"
      },
      "execution_count": 34,
      "outputs": [
        {
          "output_type": "execute_result",
          "data": {
            "text/plain": [
              "0.9279999999999999"
            ]
          },
          "metadata": {},
          "execution_count": 34
        }
      ]
    },
    {
      "cell_type": "code",
      "source": [
        "pca = PCA(0.9999)\n",
        "pca.fit(X)\n",
        "\n",
        "X_components = pca.transform(X)\n",
        "mod_rfc = RandomForestClassifier(random_state=42)\n",
        "mod_rfc.fit(X_components,y)\n",
        "cross_val_score(model_rfc, X_components,y).mean()"
      ],
      "metadata": {
        "id": "0MOotA1xljm9",
        "colab": {
          "base_uri": "https://localhost:8080/"
        },
        "outputId": "84671ca8-fa99-4fdf-cb25-600e0ac81ce0"
      },
      "execution_count": 48,
      "outputs": [
        {
          "output_type": "execute_result",
          "data": {
            "text/plain": [
              "0.922"
            ]
          },
          "metadata": {},
          "execution_count": 48
        }
      ]
    },
    {
      "cell_type": "code",
      "source": [
        "features = list(range(6,16))\n",
        "mean_accuracy = []\n",
        "\n",
        "for i in features:\n",
        "  pipe_rfc     = Pipeline([('rfe', RFE(estimator=RandomForestClassifier(random_state=42), n_features_to_select=i)),\n",
        "                     ('mod_rfc', RandomForestClassifier(random_state=42))])\n",
        "\n",
        "  pipe_rfc.fit(X, y)\n",
        "\n",
        "  scores = cross_val_score(pipe_rfc, X, y, cv=5)\n",
        "  mean_accuracy.append(scores.mean())\n",
        "\n",
        "print(mean_accuracy)\n",
        "\n"
      ],
      "metadata": {
        "id": "MsYJWmeSAf2A",
        "colab": {
          "base_uri": "https://localhost:8080/"
        },
        "outputId": "730ca502-bfd5-4d03-dfca-44e2aeef4212"
      },
      "execution_count": 49,
      "outputs": [
        {
          "output_type": "stream",
          "name": "stdout",
          "text": [
            "[0.8953333333333333, 0.9113333333333333, 0.908, 0.9166666666666667, 0.9206666666666667, 0.9273333333333333, 0.9246666666666666, 0.9266666666666667, 0.9246666666666666, 0.9279999999999999]\n"
          ]
        }
      ]
    },
    {
      "cell_type": "code",
      "source": [
        "k_df = pd.DataFrame(features)\n",
        "k_df.rename({0:'Number of Features'}, axis=1, inplace=True)\n",
        "\n",
        "mean_accuracy_df = pd.DataFrame(mean_accuracy)*100\n",
        "mean_accuracy_df.rename({0:'mean accuracy'}, axis=1, inplace=True)\n",
        "\n",
        "to_plot = pd.concat([k_df, mean_accuracy_df], axis=1)\n",
        "\n",
        "plt.plot(to_plot['Number of Features'], to_plot['mean accuracy'])\n",
        "plt.xlabel('Number of Features')\n",
        "plt.ylabel('Mean accuracy %')\n",
        "plt.show()"
      ],
      "metadata": {
        "id": "nGZmDM9CBkBp",
        "colab": {
          "base_uri": "https://localhost:8080/",
          "height": 279
        },
        "outputId": "62345217-9651-4ba2-f1a6-0c969879bf04"
      },
      "execution_count": 50,
      "outputs": [
        {
          "output_type": "display_data",
          "data": {
            "text/plain": [
              "<Figure size 432x288 with 1 Axes>"
            ],
            "image/png": "[encoded data removed]"
          },
          "metadata": {
            "needs_background": "light"
          }
        }
      ]
    },
    {
      "cell_type": "code",
      "source": [
        "pipe_rfc13     = Pipeline([('rfe', RFE(estimator=RandomForestClassifier(random_state=42), n_features_to_select=15)),\n",
        "                     ('mod_rfc', RandomForestClassifier(random_state=42))])\n",
        "\n",
        "pipe_rfc13.fit(X, y)\n",
        "cross_val_score(pipe_rfc13,X,y).mean()"
      ],
      "metadata": {
        "colab": {
          "base_uri": "https://localhost:8080/"
        },
        "id": "srA6QLfmD6hJ",
        "outputId": "68d0345c-338f-4925-8092-0c6bd25504e8"
      },
      "execution_count": 52,
      "outputs": [
        {
          "output_type": "execute_result",
          "data": {
            "text/plain": [
              "0.9279999999999999"
            ]
          },
          "metadata": {},
          "execution_count": 52
        }
      ]
    },
    {
      "cell_type": "code",
      "source": [
        "# Implementation Feature Engineering for Random Forest algorithm doesn't give us any improvement. "
      ],
      "metadata": {
        "id": "_JkF9hVdGFW4"
      },
      "execution_count": null,
      "outputs": []
    },
    {
      "cell_type": "markdown",
      "source": [
        "# XGBoost Regression Feature Importance"
      ],
      "metadata": {
        "id": "oY3DjxeRlkVH"
      }
    },
    {
      "cell_type": "code",
      "source": [
        "from sklearn.datasets import make_regression\n",
        "from xgboost import XGBRegressor\n",
        "from matplotlib import pyplot\n",
        "# define dataset\n",
        "X, y = make_classification(n_samples=1500, n_features=15, n_informative=7, n_redundant=8, random_state=42)\n",
        "# define the model\n",
        "model_xgb = XGBRegressor()\n",
        "# fit the model\n",
        "model_xgb.fit(X, y)\n",
        "# get importance\n",
        "importance = model_xgb.feature_importances_\n",
        "# summarize feature importance\n",
        "for i,v in enumerate(importance):\n",
        "\tprint('Feature: %0d, Score: %.5f' % (i,v))\n",
        "# plot feature importance\n",
        "pyplot.bar([x for x in range(len(importance))], importance)\n",
        "pyplot.show()"
      ],
      "metadata": {
        "id": "l6sYPgaaln8e",
        "colab": {
          "base_uri": "https://localhost:8080/",
          "height": 553
        },
        "outputId": "6e2301c5-698d-4e51-f9d8-8848a091d2c7"
      },
      "execution_count": 54,
      "outputs": [
        {
          "output_type": "stream",
          "name": "stdout",
          "text": [
            "[21:16:52] WARNING: /workspace/src/objective/regression_obj.cu:152: reg:linear is now deprecated in favor of reg:squarederror.\n",
            "Feature: 0, Score: 0.06290\n",
            "Feature: 1, Score: 0.03552\n",
            "Feature: 2, Score: 0.02414\n",
            "Feature: 3, Score: 0.01161\n",
            "Feature: 4, Score: 0.05624\n",
            "Feature: 5, Score: 0.08443\n",
            "Feature: 6, Score: 0.11996\n",
            "Feature: 7, Score: 0.03153\n",
            "Feature: 8, Score: 0.13562\n",
            "Feature: 9, Score: 0.03725\n",
            "Feature: 10, Score: 0.24128\n",
            "Feature: 11, Score: 0.01683\n",
            "Feature: 12, Score: 0.02650\n",
            "Feature: 13, Score: 0.06073\n",
            "Feature: 14, Score: 0.05548\n"
          ]
        },
        {
          "output_type": "display_data",
          "data": {
            "text/plain": [
              "<Figure size 432x288 with 1 Axes>"
            ],
            "image/png": "[encoded data removed]"
          },
          "metadata": {
            "needs_background": "light"
          }
        }
      ]
    },
    {
      "cell_type": "code",
      "source": [
        "\n",
        "cross_val_score(model_xgb,X,y).mean()"
      ],
      "metadata": {
        "id": "686R01NM9Axe",
        "colab": {
          "base_uri": "https://localhost:8080/"
        },
        "outputId": "0272de4c-65e1-4a81-9c6b-61aba99a8d49"
      },
      "execution_count": 55,
      "outputs": [
        {
          "output_type": "stream",
          "name": "stdout",
          "text": [
            "[21:16:56] WARNING: /workspace/src/objective/regression_obj.cu:152: reg:linear is now deprecated in favor of reg:squarederror.\n",
            "[21:16:56] WARNING: /workspace/src/objective/regression_obj.cu:152: reg:linear is now deprecated in favor of reg:squarederror.\n",
            "[21:16:56] WARNING: /workspace/src/objective/regression_obj.cu:152: reg:linear is now deprecated in favor of reg:squarederror.\n",
            "[21:16:57] WARNING: /workspace/src/objective/regression_obj.cu:152: reg:linear is now deprecated in favor of reg:squarederror.\n",
            "[21:16:57] WARNING: /workspace/src/objective/regression_obj.cu:152: reg:linear is now deprecated in favor of reg:squarederror.\n"
          ]
        },
        {
          "output_type": "execute_result",
          "data": {
            "text/plain": [
              "0.7119186286123262"
            ]
          },
          "metadata": {},
          "execution_count": 55
        }
      ]
    },
    {
      "cell_type": "code",
      "source": [
        "pca = PCA(0.9999)\n",
        "pca.fit(X)\n",
        "\n",
        "X_components = pca.transform(X)\n",
        "\n",
        "model_xgb.fit(X_components,y)\n",
        "cross_val_score(model_rfc, X_components,y).mean()"
      ],
      "metadata": {
        "colab": {
          "base_uri": "https://localhost:8080/"
        },
        "id": "-IVnPZRSGrUw",
        "outputId": "673b5ce9-f714-4366-f3d3-42afe4380fde"
      },
      "execution_count": 58,
      "outputs": [
        {
          "output_type": "stream",
          "name": "stdout",
          "text": [
            "[21:19:14] WARNING: /workspace/src/objective/regression_obj.cu:152: reg:linear is now deprecated in favor of reg:squarederror.\n"
          ]
        },
        {
          "output_type": "execute_result",
          "data": {
            "text/plain": [
              "0.922"
            ]
          },
          "metadata": {},
          "execution_count": 58
        }
      ]
    },
    {
      "cell_type": "code",
      "source": [
        "# Applicatioin of feature Engineering on XGBoost Regression gace us increasing of accuracy from 71 to 92.2% "
      ],
      "metadata": {
        "id": "OHCE9u5dHESA"
      },
      "execution_count": null,
      "outputs": []
    },
    {
      "cell_type": "markdown",
      "source": [
        "# Permutation Feature Importance with KNN for Regression"
      ],
      "metadata": {
        "id": "oIAhbcNnl5bt"
      }
    },
    {
      "cell_type": "code",
      "source": [
        "\n",
        "# permutation feature importance with knn for regression\n",
        "from sklearn.datasets import make_regression\n",
        "from sklearn.neighbors import KNeighborsRegressor\n",
        "from sklearn.inspection import permutation_importance\n",
        "from matplotlib import pyplot\n",
        "# define dataset\n",
        "X, y = make_classification(n_samples=1500, n_features=15, n_informative=7, n_redundant=8, random_state=42)\n",
        "# define the model\n",
        "model_knnr = KNeighborsRegressor()\n",
        "# fit the model\n",
        "model_knnr.fit(X, y)\n",
        "# perform permutation importance\n",
        "results = permutation_importance(model_knnr, X, y, scoring='neg_mean_squared_error')\n",
        "# get importance\n",
        "importance = results.importances_mean\n",
        "# summarize feature importance\n",
        "for i,v in enumerate(importance):\n",
        "\tprint('Feature: %0d, Score: %.5f' % (i,v))\n",
        "# plot feature importance\n",
        "pyplot.bar([x for x in range(len(importance))], importance)\n",
        "pyplot.show()"
      ],
      "metadata": {
        "id": "8FVIOEBpl53G",
        "colab": {
          "base_uri": "https://localhost:8080/",
          "height": 534
        },
        "outputId": "1c404c8d-18f2-4d3d-8cf7-1a71bfb8cf0b"
      },
      "execution_count": 59,
      "outputs": [
        {
          "output_type": "stream",
          "name": "stdout",
          "text": [
            "Feature: 0, Score: -0.00073\n",
            "Feature: 1, Score: 0.00941\n",
            "Feature: 2, Score: 0.00427\n",
            "Feature: 3, Score: 0.00774\n",
            "Feature: 4, Score: 0.01639\n",
            "Feature: 5, Score: 0.08468\n",
            "Feature: 6, Score: 0.02873\n",
            "Feature: 7, Score: 0.00292\n",
            "Feature: 8, Score: 0.00822\n",
            "Feature: 9, Score: 0.00286\n",
            "Feature: 10, Score: 0.01564\n",
            "Feature: 11, Score: 0.01376\n",
            "Feature: 12, Score: 0.00740\n",
            "Feature: 13, Score: 0.00281\n",
            "Feature: 14, Score: 0.02308\n"
          ]
        },
        {
          "output_type": "display_data",
          "data": {
            "text/plain": [
              "<Figure size 432x288 with 1 Axes>"
            ],
            "image/png": "[encoded data removed]"
          },
          "metadata": {
            "needs_background": "light"
          }
        }
      ]
    },
    {
      "cell_type": "markdown",
      "source": [
        "Permutation feature Importance "
      ],
      "metadata": {
        "id": "OPWIRP-YmtgR"
      }
    },
    {
      "cell_type": "code",
      "source": [
        "cross_val_score(model_knnr,X,y).mean()"
      ],
      "metadata": {
        "id": "G7XKhnuCmtuP",
        "colab": {
          "base_uri": "https://localhost:8080/"
        },
        "outputId": "d627c4fc-3f64-4b22-a410-a1adf80207f0"
      },
      "execution_count": 57,
      "outputs": [
        {
          "output_type": "execute_result",
          "data": {
            "text/plain": [
              "0.7456422436584013"
            ]
          },
          "metadata": {},
          "execution_count": 57
        }
      ]
    },
    {
      "cell_type": "code",
      "source": [
        "pca = PCA(0.99999)\n",
        "pca.fit(X)\n",
        "\n",
        "X_components = pca.transform(X)\n",
        "model_knnr.fit(X_components,y)\n",
        "cross_val_score(model_knnr, X_components,y).mean()"
      ],
      "metadata": {
        "id": "Xa4x4Atq-ac5",
        "colab": {
          "base_uri": "https://localhost:8080/"
        },
        "outputId": "35472c8e-79b7-47fa-ada0-012afb82924b"
      },
      "execution_count": 60,
      "outputs": [
        {
          "output_type": "execute_result",
          "data": {
            "text/plain": [
              "0.7456422436584013"
            ]
          },
          "metadata": {},
          "execution_count": 60
        }
      ]
    },
    {
      "cell_type": "code",
      "source": [
        "# Using PCA on KNN Regretion does not change the accuracy at all. "
      ],
      "metadata": {
        "id": "WfUOKtDPHzSJ"
      },
      "execution_count": 61,
      "outputs": []
    }
  ]
}