{
  "nbformat": 4,
  "nbformat_minor": 0,
  "metadata": {
    "colab": {
      "provenance": [],
      "authorship_tag": "ABX9TyNp6tEwlK9jW9Z/mnjRQ9pR",
      "include_colab_link": true
    },
    "kernelspec": {
      "name": "python3",
      "display_name": "Python 3"
    },
    "language_info": {
      "name": "python"
    }
  },
  "cells": [
    {
      "cell_type": "markdown",
      "metadata": {
        "id": "view-in-github",
        "colab_type": "text"
      },
      "source": [
        "<a href=\"https://colab.research.google.com/github/OlgaPriyutova/Feature-Importance-and-Feature-Engineering-/blob/main/Feature_Importance_and_Feature_Engineering.ipynb\" target=\"_parent\"><img src=\"https://colab.research.google.com/assets/colab-badge.svg\" alt=\"Open In Colab\"/></a>"
      ]
    },
    {
      "cell_type": "code",
      "execution_count": 1,
      "metadata": {
        "id": "0SP44YIZhLAM"
      },
      "outputs": [],
      "source": [
        "# I this project I generated data set (n-class classification problem) with 7 important and 8 idle features,\n",
        "# and check how different algorithms will work on this data and how we can improve accuracy of prediction using feature elimination (RFE) and feature enginnering (PCA).  "
      ]
    },
    {
      "cell_type": "code",
      "source": [
        "import sklearn\n",
        "import pandas as pd"
      ],
      "metadata": {
        "id": "WxkiQ0_fNwv5"
      },
      "execution_count": 2,
      "outputs": []
    },
    {
      "cell_type": "markdown",
      "source": [],
      "metadata": {
        "id": "tl7c36elNvZM"
      }
    },
    {
      "cell_type": "code",
      "source": [
        "import matplotlib.pyplot as plt\n",
        "from sklearn.pipeline import Pipeline\n",
        "from sklearn.model_selection import cross_val_score\n",
        "from sklearn.feature_selection import RFE\n",
        "from sklearn.preprocessing import StandardScaler\n",
        "from sklearn.decomposition import PCA\n",
        "import numpy as np"
      ],
      "metadata": {
        "id": "k28YVFuIc8YS"
      },
      "execution_count": 3,
      "outputs": []
    },
    {
      "cell_type": "code",
      "source": [
        "\n",
        "# test classification dataset\n",
        "from sklearn.datasets import make_classification\n",
        "# define dataset\n",
        "X, y = make_classification(n_samples=2500, n_features=25, n_informative=5, n_redundant=20, random_state=42)\n",
        "# summarize the dataset\n",
        "print(X.shape, y.shape)\n",
        "X"
      ],
      "metadata": {
        "id": "vbrySRrmhwBf",
        "colab": {
          "base_uri": "https://localhost:8080/"
        },
        "outputId": "2405d41c-45a7-4754-b518-9dd00e946ced"
      },
      "execution_count": 4,
      "outputs": [
        {
          "output_type": "stream",
          "name": "stdout",
          "text": [
            "(2500, 25) (2500,)\n"
          ]
        },
        {
          "output_type": "execute_result",
          "data": {
            "text/plain": [
              "array([[ 0.5414294 , -4.31889678, -1.64297395, ..., -0.67811276,\n",
              "         1.36986999, -0.38643914],\n",
              "       [-0.17796707,  0.09208261, -2.12433543, ..., -2.67262611,\n",
              "         2.40519181,  0.70349141],\n",
              "       [-0.27458008, -0.05337614, -0.98756685, ..., -1.13420832,\n",
              "         1.13967914,  0.4537936 ],\n",
              "       ...,\n",
              "       [ 2.25838355, -6.18457501, -4.25267157, ..., -2.32351937,\n",
              "         0.46688057, -2.87282394],\n",
              "       [ 1.68106914, -4.14903841, -2.5576038 , ..., -1.19227456,\n",
              "        -0.31552008, -1.66221388],\n",
              "       [ 3.28688984,  3.70065743, -0.27279654, ..., -2.12470172,\n",
              "        -2.27966324, -0.79746161]])"
            ]
          },
          "metadata": {},
          "execution_count": 4
        }
      ]
    },
    {
      "cell_type": "code",
      "source": [
        "X_df=pd.DataFrame(X)\n",
        "X_df.head()\n"
      ],
      "metadata": {
        "id": "yZxNsvy-hzFI",
        "colab": {
          "base_uri": "https://localhost:8080/",
          "height": 235
        },
        "outputId": "239ec248-7ef9-4637-99d1-d23699e82670"
      },
      "execution_count": 5,
      "outputs": [
        {
          "output_type": "execute_result",
          "data": {
            "text/plain": [
              "         0         1         2         3         4         5         6   \\\n",
              "0  0.541429 -4.318897 -1.642974  1.968950  0.717840 -2.295741 -2.104132   \n",
              "1 -0.177967  0.092083 -2.124335  0.192293 -3.826816 -3.248624  1.051480   \n",
              "2 -0.274580 -0.053376 -0.987567  0.268126 -2.069771 -1.700350  0.623295   \n",
              "3  0.832124  1.405680  1.410918  0.265231  1.252379  3.724558  2.613919   \n",
              "4 -0.500918  0.601602  1.034556  0.881965  0.242648  1.908764  2.468599   \n",
              "\n",
              "         7         8         9   ...        15        16        17        18  \\\n",
              "0  0.814007  1.033471 -0.065134  ... -0.439019  3.476117  2.056304 -0.730376   \n",
              "1 -1.751444 -1.710400 -0.777456  ... -2.319364 -1.035908  1.826485  0.473686   \n",
              "2 -0.755680 -0.389871 -0.432745  ... -1.375098 -0.841344  1.242397  0.004372   \n",
              "3  2.436666  2.895963  1.091979  ... -3.357955 -2.725468  0.833801  0.729923   \n",
              "4  0.445472  1.223199 -0.545992  ... -1.284102 -1.639133  0.662858  1.119846   \n",
              "\n",
              "         19        20        21        22        23        24  \n",
              "0 -1.805060 -2.163203 -1.233533 -0.678113  1.369870 -0.386439  \n",
              "1  1.396610  0.064954  4.857308 -2.672626  2.405192  0.703491  \n",
              "2  0.641676  0.472366  2.364901 -1.134208  1.139679  0.453794  \n",
              "3  0.588687  2.545437 -1.404721  0.448694 -1.174087  1.798778  \n",
              "4  1.563552 -0.222558 -0.376512  0.114510  1.275707  1.819704  \n",
              "\n",
              "[5 rows x 25 columns]"
            ],
            "text/html": [
              "\n",
              "  <div id=\"df-6f55b810-bbb8-4479-b842-58343e224bac\">\n",
              "    <div class=\"colab-df-container\">\n",
              "      <div>\n",
              "<style scoped>\n",
              "    .dataframe tbody tr th:only-of-type {\n",
              "        vertical-align: middle;\n",
              "    }\n",
              "\n",
              "    .dataframe tbody tr th {\n",
              "        vertical-align: top;\n",
              "    }\n",
              "\n",
              "    .dataframe thead th {\n",
              "        text-align: right;\n",
              "    }\n",
              "</style>\n",
              "<table border=\"1\" class=\"dataframe\">\n",
              "  <thead>\n",
              "    <tr style=\"text-align: right;\">\n",
              "      <th></th>\n",
              "      <th>0</th>\n",
              "      <th>1</th>\n",
              "      <th>2</th>\n",
              "      <th>3</th>\n",
              "      <th>4</th>\n",
              "      <th>5</th>\n",
              "      <th>6</th>\n",
              "      <th>7</th>\n",
              "      <th>8</th>\n",
              "      <th>9</th>\n",
              "      <th>...</th>\n",
              "      <th>15</th>\n",
              "      <th>16</th>\n",
              "      <th>17</th>\n",
              "      <th>18</th>\n",
              "      <th>19</th>\n",
              "      <th>20</th>\n",
              "      <th>21</th>\n",
              "      <th>22</th>\n",
              "      <th>23</th>\n",
              "      <th>24</th>\n",
              "    </tr>\n",
              "  </thead>\n",
              "  <tbody>\n",
              "    <tr>\n",
              "      <th>0</th>\n",
              "      <td>0.541429</td>\n",
              "      <td>-4.318897</td>\n",
              "      <td>-1.642974</td>\n",
              "      <td>1.968950</td>\n",
              "      <td>0.717840</td>\n",
              "      <td>-2.295741</td>\n",
              "      <td>-2.104132</td>\n",
              "      <td>0.814007</td>\n",
              "      <td>1.033471</td>\n",
              "      <td>-0.065134</td>\n",
              "      <td>...</td>\n",
              "      <td>-0.439019</td>\n",
              "      <td>3.476117</td>\n",
              "      <td>2.056304</td>\n",
              "      <td>-0.730376</td>\n",
              "      <td>-1.805060</td>\n",
              "      <td>-2.163203</td>\n",
              "      <td>-1.233533</td>\n",
              "      <td>-0.678113</td>\n",
              "      <td>1.369870</td>\n",
              "      <td>-0.386439</td>\n",
              "    </tr>\n",
              "    <tr>\n",
              "      <th>1</th>\n",
              "      <td>-0.177967</td>\n",
              "      <td>0.092083</td>\n",
              "      <td>-2.124335</td>\n",
              "      <td>0.192293</td>\n",
              "      <td>-3.826816</td>\n",
              "      <td>-3.248624</td>\n",
              "      <td>1.051480</td>\n",
              "      <td>-1.751444</td>\n",
              "      <td>-1.710400</td>\n",
              "      <td>-0.777456</td>\n",
              "      <td>...</td>\n",
              "      <td>-2.319364</td>\n",
              "      <td>-1.035908</td>\n",
              "      <td>1.826485</td>\n",
              "      <td>0.473686</td>\n",
              "      <td>1.396610</td>\n",
              "      <td>0.064954</td>\n",
              "      <td>4.857308</td>\n",
              "      <td>-2.672626</td>\n",
              "      <td>2.405192</td>\n",
              "      <td>0.703491</td>\n",
              "    </tr>\n",
              "    <tr>\n",
              "      <th>2</th>\n",
              "      <td>-0.274580</td>\n",
              "      <td>-0.053376</td>\n",
              "      <td>-0.987567</td>\n",
              "      <td>0.268126</td>\n",
              "      <td>-2.069771</td>\n",
              "      <td>-1.700350</td>\n",
              "      <td>0.623295</td>\n",
              "      <td>-0.755680</td>\n",
              "      <td>-0.389871</td>\n",
              "      <td>-0.432745</td>\n",
              "      <td>...</td>\n",
              "      <td>-1.375098</td>\n",
              "      <td>-0.841344</td>\n",
              "      <td>1.242397</td>\n",
              "      <td>0.004372</td>\n",
              "      <td>0.641676</td>\n",
              "      <td>0.472366</td>\n",
              "      <td>2.364901</td>\n",
              "      <td>-1.134208</td>\n",
              "      <td>1.139679</td>\n",
              "      <td>0.453794</td>\n",
              "    </tr>\n",
              "    <tr>\n",
              "      <th>3</th>\n",
              "      <td>0.832124</td>\n",
              "      <td>1.405680</td>\n",
              "      <td>1.410918</td>\n",
              "      <td>0.265231</td>\n",
              "      <td>1.252379</td>\n",
              "      <td>3.724558</td>\n",
              "      <td>2.613919</td>\n",
              "      <td>2.436666</td>\n",
              "      <td>2.895963</td>\n",
              "      <td>1.091979</td>\n",
              "      <td>...</td>\n",
              "      <td>-3.357955</td>\n",
              "      <td>-2.725468</td>\n",
              "      <td>0.833801</td>\n",
              "      <td>0.729923</td>\n",
              "      <td>0.588687</td>\n",
              "      <td>2.545437</td>\n",
              "      <td>-1.404721</td>\n",
              "      <td>0.448694</td>\n",
              "      <td>-1.174087</td>\n",
              "      <td>1.798778</td>\n",
              "    </tr>\n",
              "    <tr>\n",
              "      <th>4</th>\n",
              "      <td>-0.500918</td>\n",
              "      <td>0.601602</td>\n",
              "      <td>1.034556</td>\n",
              "      <td>0.881965</td>\n",
              "      <td>0.242648</td>\n",
              "      <td>1.908764</td>\n",
              "      <td>2.468599</td>\n",
              "      <td>0.445472</td>\n",
              "      <td>1.223199</td>\n",
              "      <td>-0.545992</td>\n",
              "      <td>...</td>\n",
              "      <td>-1.284102</td>\n",
              "      <td>-1.639133</td>\n",
              "      <td>0.662858</td>\n",
              "      <td>1.119846</td>\n",
              "      <td>1.563552</td>\n",
              "      <td>-0.222558</td>\n",
              "      <td>-0.376512</td>\n",
              "      <td>0.114510</td>\n",
              "      <td>1.275707</td>\n",
              "      <td>1.819704</td>\n",
              "    </tr>\n",
              "  </tbody>\n",
              "</table>\n",
              "<p>5 rows × 25 columns</p>\n",
              "</div>\n",
              "      <button class=\"colab-df-convert\" onclick=\"convertToInteractive('df-6f55b810-bbb8-4479-b842-58343e224bac')\"\n",
              "              title=\"Convert this dataframe to an interactive table.\"\n",
              "              style=\"display:none;\">\n",
              "        \n",
              "  <svg xmlns=\"http://www.w3.org/2000/svg\" height=\"24px\"viewBox=\"0 0 24 24\"\n",
              "       width=\"24px\">\n",
              "    <path d=\"M0 0h24v24H0V0z\" fill=\"none\"/>\n",
              "    <path d=\"M18.56 5.44l.94 2.06.94-2.06 2.06-.94-2.06-.94-.94-2.06-.94 2.06-2.06.94zm-11 1L8.5 8.5l.94-2.06 2.06-.94-2.06-.94L8.5 2.5l-.94 2.06-2.06.94zm10 10l.94 2.06.94-2.06 2.06-.94-2.06-.94-.94-2.06-.94 2.06-2.06.94z\"/><path d=\"M17.41 7.96l-1.37-1.37c-.4-.4-.92-.59-1.43-.59-.52 0-1.04.2-1.43.59L10.3 9.45l-7.72 7.72c-.78.78-.78 2.05 0 2.83L4 21.41c.39.39.9.59 1.41.59.51 0 1.02-.2 1.41-.59l7.78-7.78 2.81-2.81c.8-.78.8-2.07 0-2.86zM5.41 20L4 18.59l7.72-7.72 1.47 1.35L5.41 20z\"/>\n",
              "  </svg>\n",
              "      </button>\n",
              "      \n",
              "  <style>\n",
              "    .colab-df-container {\n",
              "      display:flex;\n",
              "      flex-wrap:wrap;\n",
              "      gap: 12px;\n",
              "    }\n",
              "\n",
              "    .colab-df-convert {\n",
              "      background-color: #E8F0FE;\n",
              "      border: none;\n",
              "      border-radius: 50%;\n",
              "      cursor: pointer;\n",
              "      display: none;\n",
              "      fill: #1967D2;\n",
              "      height: 32px;\n",
              "      padding: 0 0 0 0;\n",
              "      width: 32px;\n",
              "    }\n",
              "\n",
              "    .colab-df-convert:hover {\n",
              "      background-color: #E2EBFA;\n",
              "      box-shadow: 0px 1px 2px rgba(60, 64, 67, 0.3), 0px 1px 3px 1px rgba(60, 64, 67, 0.15);\n",
              "      fill: #174EA6;\n",
              "    }\n",
              "\n",
              "    [theme=dark] .colab-df-convert {\n",
              "      background-color: #3B4455;\n",
              "      fill: #D2E3FC;\n",
              "    }\n",
              "\n",
              "    [theme=dark] .colab-df-convert:hover {\n",
              "      background-color: #434B5C;\n",
              "      box-shadow: 0px 1px 3px 1px rgba(0, 0, 0, 0.15);\n",
              "      filter: drop-shadow(0px 1px 2px rgba(0, 0, 0, 0.3));\n",
              "      fill: #FFFFFF;\n",
              "    }\n",
              "  </style>\n",
              "\n",
              "      <script>\n",
              "        const buttonEl =\n",
              "          document.querySelector('#df-6f55b810-bbb8-4479-b842-58343e224bac button.colab-df-convert');\n",
              "        buttonEl.style.display =\n",
              "          google.colab.kernel.accessAllowed ? 'block' : 'none';\n",
              "\n",
              "        async function convertToInteractive(key) {\n",
              "          const element = document.querySelector('#df-6f55b810-bbb8-4479-b842-58343e224bac');\n",
              "          const dataTable =\n",
              "            await google.colab.kernel.invokeFunction('convertToInteractive',\n",
              "                                                     [key], {});\n",
              "          if (!dataTable) return;\n",
              "\n",
              "          const docLinkHtml = 'Like what you see? Visit the ' +\n",
              "            '<a target=\"_blank\" href=https://colab.research.google.com/notebooks/data_table.ipynb>data table notebook</a>'\n",
              "            + ' to learn more about interactive tables.';\n",
              "          element.innerHTML = '';\n",
              "          dataTable['output_type'] = 'display_data';\n",
              "          await google.colab.output.renderOutput(dataTable, element);\n",
              "          const docLink = document.createElement('div');\n",
              "          docLink.innerHTML = docLinkHtml;\n",
              "          element.appendChild(docLink);\n",
              "        }\n",
              "      </script>\n",
              "    </div>\n",
              "  </div>\n",
              "  "
            ]
          },
          "metadata": {},
          "execution_count": 5
        }
      ]
    },
    {
      "cell_type": "code",
      "source": [
        "y"
      ],
      "metadata": {
        "id": "x0QAw92pfiPO",
        "outputId": "57757001-4369-41e2-eef9-34ac56629161",
        "colab": {
          "base_uri": "https://localhost:8080/"
        }
      },
      "execution_count": 6,
      "outputs": [
        {
          "output_type": "execute_result",
          "data": {
            "text/plain": [
              "array([0, 1, 1, ..., 0, 0, 1])"
            ]
          },
          "metadata": {},
          "execution_count": 6
        }
      ]
    },
    {
      "cell_type": "markdown",
      "source": [
        "Linear Regression, Decition Tree do not give us prediction with higher than 49% accuracy, with any number or combination of features, so these algorithms just do not work on this dataset. So, let us start with Logistic Regression\n",
        "# Logistic Regression Feature Importance and Feature Engineering"
      ],
      "metadata": {
        "id": "RzBWpIU8jlp9"
      }
    },
    {
      "cell_type": "markdown",
      "source": [],
      "metadata": {
        "id": "jxdNPX0vj5Dl"
      }
    },
    {
      "cell_type": "code",
      "source": [
        "# logistic regression for feature importance\n",
        "from sklearn.datasets import make_classification\n",
        "from sklearn.linear_model import LogisticRegression\n",
        "from matplotlib import pyplot\n",
        "\n",
        "# define the model\n",
        "model_lg = LogisticRegression()\n",
        "# fit the model\n",
        "model_lg.fit(X, y)\n",
        "# get importance\n",
        "importance = model_lg.coef_[0]\n",
        "# summarize feature importance\n",
        "for i,v in enumerate(importance):\n",
        "\tprint('Feature: %0d, Score: %.5f' % (i,v))\n",
        "# plot feature importance\n",
        "pyplot.bar([x for x in range(len(importance))], importance)\n",
        "pyplot.show()"
      ],
      "metadata": {
        "id": "ek7bGDqGkA_I",
        "colab": {
          "base_uri": "https://localhost:8080/",
          "height": 699
        },
        "outputId": "e7f31941-eb74-40ed-b571-21e6068e3512"
      },
      "execution_count": 7,
      "outputs": [
        {
          "output_type": "stream",
          "name": "stdout",
          "text": [
            "Feature: 0, Score: -0.15382\n",
            "Feature: 1, Score: 0.20392\n",
            "Feature: 2, Score: 0.14067\n",
            "Feature: 3, Score: -0.05478\n",
            "Feature: 4, Score: -0.01900\n",
            "Feature: 5, Score: 0.10719\n",
            "Feature: 6, Score: 0.14201\n",
            "Feature: 7, Score: -0.19060\n",
            "Feature: 8, Score: -0.18133\n",
            "Feature: 9, Score: -0.14305\n",
            "Feature: 10, Score: 0.06808\n",
            "Feature: 11, Score: -0.03769\n",
            "Feature: 12, Score: -0.03745\n",
            "Feature: 13, Score: -0.17843\n",
            "Feature: 14, Score: 0.23256\n",
            "Feature: 15, Score: 0.26979\n",
            "Feature: 16, Score: -0.09491\n",
            "Feature: 17, Score: -0.19722\n",
            "Feature: 18, Score: 0.11669\n",
            "Feature: 19, Score: 0.21039\n",
            "Feature: 20, Score: -0.17753\n",
            "Feature: 21, Score: 0.03830\n",
            "Feature: 22, Score: 0.06686\n",
            "Feature: 23, Score: 0.12681\n",
            "Feature: 24, Score: 0.04647\n"
          ]
        },
        {
          "output_type": "display_data",
          "data": {
            "text/plain": [
              "<Figure size 432x288 with 1 Axes>"
            ],
            "image/png": "[encoded data removed]"
          },
          "metadata": {
            "needs_background": "light"
          }
        }
      ]
    },
    {
      "cell_type": "code",
      "source": [
        "cross_val_score(model_lg, X,y).mean()\n"
      ],
      "metadata": {
        "id": "DIYdfrAajcjy",
        "colab": {
          "base_uri": "https://localhost:8080/"
        },
        "outputId": "5407009a-1646-46db-c5aa-0afa8fa19173"
      },
      "execution_count": 8,
      "outputs": [
        {
          "output_type": "execute_result",
          "data": {
            "text/plain": [
              "0.8263999999999999"
            ]
          },
          "metadata": {},
          "execution_count": 8
        }
      ]
    },
    {
      "cell_type": "code",
      "source": [
        "# Check how many feachures we need for the highest accuracy: \n",
        "\n",
        "\n",
        "X=pd.DataFrame(X)\n",
        "features = list(range(2,26))\n",
        "mean_accuracy = []\n",
        "\n",
        "for i in features:\n",
        "  pipe     = Pipeline([('scaler', StandardScaler()), \n",
        "                     ('rfe', RFE(estimator=LogisticRegression(), n_features_to_select=i)),\n",
        "                     ('log_reg', LogisticRegression(random_state=0))])\n",
        "  \n",
        "  \n",
        "  pipe.fit(X,y)\n",
        "\n",
        "  scores = cross_val_score(pipe, X_df, y, cv=5)\n",
        "  \n",
        "  mean_accuracy.append(scores.mean())\n",
        "\n",
        "print(mean_accuracy)\n",
        "\n"
      ],
      "metadata": {
        "id": "F-T6gg9OcIeb",
        "colab": {
          "base_uri": "https://localhost:8080/"
        },
        "outputId": "0501ed47-8f8c-4a14-8b0e-f5c58ffb3a32"
      },
      "execution_count": 9,
      "outputs": [
        {
          "output_type": "stream",
          "name": "stdout",
          "text": [
            "[0.7888, 0.8268000000000001, 0.8288, 0.8276, 0.8256, 0.8268000000000001, 0.8268000000000001, 0.8263999999999999, 0.8263999999999999, 0.8263999999999999, 0.8263999999999999, 0.8263999999999999, 0.8263999999999999, 0.8263999999999999, 0.8263999999999999, 0.8263999999999999, 0.8263999999999999, 0.8263999999999999, 0.8263999999999999, 0.8263999999999999, 0.8263999999999999, 0.8263999999999999, 0.8263999999999999, 0.8263999999999999]\n"
          ]
        }
      ]
    },
    {
      "cell_type": "code",
      "source": [
        "\n",
        "k_df = pd.DataFrame(features)\n",
        "k_df.rename({0:'Number of Features'}, axis=1, inplace=True)\n",
        "\n",
        "mean_accuracy_df = pd.DataFrame(mean_accuracy)*100\n",
        "mean_accuracy_df.rename({0:'mean accuracy'}, axis=1, inplace=True)\n",
        "\n",
        "to_plot = pd.concat([k_df, mean_accuracy_df], axis=1)\n",
        "\n",
        "plt.plot(to_plot['Number of Features'], to_plot['mean accuracy'])\n",
        "plt.xlabel('Number of Features')\n",
        "plt.ylabel('Mean accuracy %')\n",
        "plt.show()"
      ],
      "metadata": {
        "id": "mMZat9DkiGe8",
        "colab": {
          "base_uri": "https://localhost:8080/",
          "height": 279
        },
        "outputId": "29e45528-6d86-4237-f0fc-3e8fa9f937a1"
      },
      "execution_count": 10,
      "outputs": [
        {
          "output_type": "display_data",
          "data": {
            "text/plain": [
              "<Figure size 432x288 with 1 Axes>"
            ],
            "image/png": "[encoded data removed]"
          },
          "metadata": {
            "needs_background": "light"
          }
        }
      ]
    },
    {
      "cell_type": "code",
      "source": [
        "# 5 features (out of 7 of importance) are enough for this model according to this picture. Let is try to Scale it and chose only 5 fratures: "
      ],
      "metadata": {
        "id": "IDY6tYD3_1b2"
      },
      "execution_count": 11,
      "outputs": []
    },
    {
      "cell_type": "code",
      "source": [
        "pipe5     = Pipeline([('scaler', StandardScaler()), \n",
        "                     ('rfe', RFE(estimator=LogisticRegression(), n_features_to_select=5)),\n",
        "                     ('log_reg', LogisticRegression(random_state=42))])\n",
        "pipe5.fit(X,y)\n",
        "\n",
        "scores5 = cross_val_score(pipe5, X, y, cv=5)\n",
        "print(scores5.mean())"
      ],
      "metadata": {
        "id": "wgdkQN54ic3b",
        "colab": {
          "base_uri": "https://localhost:8080/"
        },
        "outputId": "8377cba8-4002-42a2-ccd8-ceabe6a28bc7"
      },
      "execution_count": 12,
      "outputs": [
        {
          "output_type": "stream",
          "name": "stdout",
          "text": [
            "0.8276\n"
          ]
        }
      ]
    },
    {
      "cell_type": "code",
      "source": [
        "#Let us check which features are important and apply them directly: "
      ],
      "metadata": {
        "id": "7ki0lKQHAQxP"
      },
      "execution_count": 13,
      "outputs": []
    },
    {
      "cell_type": "code",
      "source": [
        "Feature_support = pd.DataFrame(pipe5.named_steps['rfe'].support_, index=X.columns)\n",
        "Feature_support.rename({0:'Feature Support'}, axis=1, inplace=True)\n",
        "Feature_support = Feature_support.sort_values(by=['Feature Support'], ascending=False)\n",
        "print(Feature_support)"
      ],
      "metadata": {
        "id": "LrGhMtlIkJtx",
        "colab": {
          "base_uri": "https://localhost:8080/"
        },
        "outputId": "3a3cab99-a9e8-4f0c-cc48-9d6f9eb9b74f"
      },
      "execution_count": 14,
      "outputs": [
        {
          "output_type": "stream",
          "name": "stdout",
          "text": [
            "    Feature Support\n",
            "20             True\n",
            "19             True\n",
            "15             True\n",
            "14             True\n",
            "1              True\n",
            "0             False\n",
            "13            False\n",
            "23            False\n",
            "22            False\n",
            "21            False\n",
            "18            False\n",
            "17            False\n",
            "16            False\n",
            "12            False\n",
            "11            False\n",
            "10            False\n",
            "9             False\n",
            "8             False\n",
            "7             False\n",
            "6             False\n",
            "5             False\n",
            "4             False\n",
            "3             False\n",
            "2             False\n",
            "24            False\n"
          ]
        }
      ]
    },
    {
      "cell_type": "code",
      "source": [
        "X_f = X[[12,3,7,10,17]]\n",
        "X_f.head(3)"
      ],
      "metadata": {
        "id": "8-N3GpAH1Dnv",
        "colab": {
          "base_uri": "https://localhost:8080/",
          "height": 143
        },
        "outputId": "a134338f-c543-40d7-e3d6-b957b23ff2b7"
      },
      "execution_count": 15,
      "outputs": [
        {
          "output_type": "execute_result",
          "data": {
            "text/plain": [
              "         12        3         7         10        17\n",
              "0 -2.738644  1.968950  0.814007 -0.877920  2.056304\n",
              "1  2.079590  0.192293 -1.751444 -4.476054  1.826485\n",
              "2  1.281471  0.268126 -0.755680 -2.455179  1.242397"
            ],
            "text/html": [
              "\n",
              "  <div id=\"df-ca25bd2f-26ef-4bf5-9df7-caff5a5f7dc6\">\n",
              "    <div class=\"colab-df-container\">\n",
              "      <div>\n",
              "<style scoped>\n",
              "    .dataframe tbody tr th:only-of-type {\n",
              "        vertical-align: middle;\n",
              "    }\n",
              "\n",
              "    .dataframe tbody tr th {\n",
              "        vertical-align: top;\n",
              "    }\n",
              "\n",
              "    .dataframe thead th {\n",
              "        text-align: right;\n",
              "    }\n",
              "</style>\n",
              "<table border=\"1\" class=\"dataframe\">\n",
              "  <thead>\n",
              "    <tr style=\"text-align: right;\">\n",
              "      <th></th>\n",
              "      <th>12</th>\n",
              "      <th>3</th>\n",
              "      <th>7</th>\n",
              "      <th>10</th>\n",
              "      <th>17</th>\n",
              "    </tr>\n",
              "  </thead>\n",
              "  <tbody>\n",
              "    <tr>\n",
              "      <th>0</th>\n",
              "      <td>-2.738644</td>\n",
              "      <td>1.968950</td>\n",
              "      <td>0.814007</td>\n",
              "      <td>-0.877920</td>\n",
              "      <td>2.056304</td>\n",
              "    </tr>\n",
              "    <tr>\n",
              "      <th>1</th>\n",
              "      <td>2.079590</td>\n",
              "      <td>0.192293</td>\n",
              "      <td>-1.751444</td>\n",
              "      <td>-4.476054</td>\n",
              "      <td>1.826485</td>\n",
              "    </tr>\n",
              "    <tr>\n",
              "      <th>2</th>\n",
              "      <td>1.281471</td>\n",
              "      <td>0.268126</td>\n",
              "      <td>-0.755680</td>\n",
              "      <td>-2.455179</td>\n",
              "      <td>1.242397</td>\n",
              "    </tr>\n",
              "  </tbody>\n",
              "</table>\n",
              "</div>\n",
              "      <button class=\"colab-df-convert\" onclick=\"convertToInteractive('df-ca25bd2f-26ef-4bf5-9df7-caff5a5f7dc6')\"\n",
              "              title=\"Convert this dataframe to an interactive table.\"\n",
              "              style=\"display:none;\">\n",
              "        \n",
              "  <svg xmlns=\"http://www.w3.org/2000/svg\" height=\"24px\"viewBox=\"0 0 24 24\"\n",
              "       width=\"24px\">\n",
              "    <path d=\"M0 0h24v24H0V0z\" fill=\"none\"/>\n",
              "    <path d=\"M18.56 5.44l.94 2.06.94-2.06 2.06-.94-2.06-.94-.94-2.06-.94 2.06-2.06.94zm-11 1L8.5 8.5l.94-2.06 2.06-.94-2.06-.94L8.5 2.5l-.94 2.06-2.06.94zm10 10l.94 2.06.94-2.06 2.06-.94-2.06-.94-.94-2.06-.94 2.06-2.06.94z\"/><path d=\"M17.41 7.96l-1.37-1.37c-.4-.4-.92-.59-1.43-.59-.52 0-1.04.2-1.43.59L10.3 9.45l-7.72 7.72c-.78.78-.78 2.05 0 2.83L4 21.41c.39.39.9.59 1.41.59.51 0 1.02-.2 1.41-.59l7.78-7.78 2.81-2.81c.8-.78.8-2.07 0-2.86zM5.41 20L4 18.59l7.72-7.72 1.47 1.35L5.41 20z\"/>\n",
              "  </svg>\n",
              "      </button>\n",
              "      \n",
              "  <style>\n",
              "    .colab-df-container {\n",
              "      display:flex;\n",
              "      flex-wrap:wrap;\n",
              "      gap: 12px;\n",
              "    }\n",
              "\n",
              "    .colab-df-convert {\n",
              "      background-color: #E8F0FE;\n",
              "      border: none;\n",
              "      border-radius: 50%;\n",
              "      cursor: pointer;\n",
              "      display: none;\n",
              "      fill: #1967D2;\n",
              "      height: 32px;\n",
              "      padding: 0 0 0 0;\n",
              "      width: 32px;\n",
              "    }\n",
              "\n",
              "    .colab-df-convert:hover {\n",
              "      background-color: #E2EBFA;\n",
              "      box-shadow: 0px 1px 2px rgba(60, 64, 67, 0.3), 0px 1px 3px 1px rgba(60, 64, 67, 0.15);\n",
              "      fill: #174EA6;\n",
              "    }\n",
              "\n",
              "    [theme=dark] .colab-df-convert {\n",
              "      background-color: #3B4455;\n",
              "      fill: #D2E3FC;\n",
              "    }\n",
              "\n",
              "    [theme=dark] .colab-df-convert:hover {\n",
              "      background-color: #434B5C;\n",
              "      box-shadow: 0px 1px 3px 1px rgba(0, 0, 0, 0.15);\n",
              "      filter: drop-shadow(0px 1px 2px rgba(0, 0, 0, 0.3));\n",
              "      fill: #FFFFFF;\n",
              "    }\n",
              "  </style>\n",
              "\n",
              "      <script>\n",
              "        const buttonEl =\n",
              "          document.querySelector('#df-ca25bd2f-26ef-4bf5-9df7-caff5a5f7dc6 button.colab-df-convert');\n",
              "        buttonEl.style.display =\n",
              "          google.colab.kernel.accessAllowed ? 'block' : 'none';\n",
              "\n",
              "        async function convertToInteractive(key) {\n",
              "          const element = document.querySelector('#df-ca25bd2f-26ef-4bf5-9df7-caff5a5f7dc6');\n",
              "          const dataTable =\n",
              "            await google.colab.kernel.invokeFunction('convertToInteractive',\n",
              "                                                     [key], {});\n",
              "          if (!dataTable) return;\n",
              "\n",
              "          const docLinkHtml = 'Like what you see? Visit the ' +\n",
              "            '<a target=\"_blank\" href=https://colab.research.google.com/notebooks/data_table.ipynb>data table notebook</a>'\n",
              "            + ' to learn more about interactive tables.';\n",
              "          element.innerHTML = '';\n",
              "          dataTable['output_type'] = 'display_data';\n",
              "          await google.colab.output.renderOutput(dataTable, element);\n",
              "          const docLink = document.createElement('div');\n",
              "          docLink.innerHTML = docLinkHtml;\n",
              "          element.appendChild(docLink);\n",
              "        }\n",
              "      </script>\n",
              "    </div>\n",
              "  </div>\n",
              "  "
            ]
          },
          "metadata": {},
          "execution_count": 15
        }
      ]
    },
    {
      "cell_type": "code",
      "source": [
        "pipe_f     = Pipeline([('scaler', StandardScaler()), \n",
        "                     ('log_reg', LogisticRegression())])\n",
        "\n",
        "# fit the model\n",
        "pipe_f.fit(X_f, y)\n"
      ],
      "metadata": {
        "id": "9D54PpESeM_J",
        "colab": {
          "base_uri": "https://localhost:8080/"
        },
        "outputId": "066232f0-b368-47d9-f4b1-6859acc9f39f"
      },
      "execution_count": 16,
      "outputs": [
        {
          "output_type": "execute_result",
          "data": {
            "text/plain": [
              "Pipeline(steps=[('scaler', StandardScaler()),\n",
              "                ('log_reg', LogisticRegression())])"
            ]
          },
          "metadata": {},
          "execution_count": 16
        }
      ]
    },
    {
      "cell_type": "code",
      "source": [
        "pipe_f.predict(X_f)"
      ],
      "metadata": {
        "id": "wozFqWyXMlPd",
        "colab": {
          "base_uri": "https://localhost:8080/"
        },
        "outputId": "0e3b46d3-a0ad-4973-bffe-30df4a623823"
      },
      "execution_count": 17,
      "outputs": [
        {
          "output_type": "execute_result",
          "data": {
            "text/plain": [
              "array([0, 1, 0, ..., 0, 0, 1])"
            ]
          },
          "metadata": {},
          "execution_count": 17
        }
      ]
    },
    {
      "cell_type": "code",
      "source": [
        "score = cross_val_score(pipe_f, X_f, y).mean()\n",
        "print(score)"
      ],
      "metadata": {
        "id": "XPnZGatd2GdA",
        "colab": {
          "base_uri": "https://localhost:8080/"
        },
        "outputId": "2a87c26e-901f-4413-c2e5-f49433f0a0e8"
      },
      "execution_count": 18,
      "outputs": [
        {
          "output_type": "stream",
          "name": "stdout",
          "text": [
            "0.8132000000000001\n"
          ]
        }
      ]
    },
    {
      "cell_type": "code",
      "source": [
        "pca = PCA(0.999)\n",
        "pca.fit(X)\n",
        "\n",
        "X_components = pca.transform(X)\n",
        "\n",
        "model_lg.fit(X_components,y)\n",
        "print('Before Feature Engineering:', cross_val_score(model_lg, X,y).mean())\n",
        "print('After Feature Engineering:', cross_val_score(pipe_f, X_components,y).mean())"
      ],
      "metadata": {
        "id": "zXon4v3kKn6T",
        "colab": {
          "base_uri": "https://localhost:8080/"
        },
        "outputId": "1f7630b4-43d3-40cf-981b-80303437e222"
      },
      "execution_count": 19,
      "outputs": [
        {
          "output_type": "stream",
          "name": "stdout",
          "text": [
            "Before Feature Engineering: 0.8263999999999999\n",
            "After Feature Engineering: 0.8263999999999999\n"
          ]
        }
      ]
    },
    {
      "cell_type": "code",
      "source": [
        "# We increase accuracy from 0.842 to 0.8426"
      ],
      "metadata": {
        "id": "qdqvIdynD0IB"
      },
      "execution_count": 20,
      "outputs": []
    },
    {
      "cell_type": "markdown",
      "source": [
        "# Random Forest (Classification model) Feature Importnace"
      ],
      "metadata": {
        "id": "bxKAGUbUkvXn"
      }
    },
    {
      "cell_type": "code",
      "source": [
        "from sklearn.ensemble import RandomForestClassifier\n",
        "# random forest for feature importance on a regression problem\n",
        "\n",
        "\n",
        "# define the model\n",
        "model_rf = RandomForestClassifier()\n",
        "# fit the model\n",
        "model_rf.fit(X, y)\n",
        "# get importance\n",
        "importance = model_rf.feature_importances_\n",
        "# summarize feature importance\n",
        "for i,v in enumerate(importance):\n",
        "\tprint('Feature: %0d, Score: %.5f' % (i,v))\n",
        "# plot feature importance\n",
        "pyplot.bar([x for x in range(len(importance))], importance)\n",
        "pyplot.show()"
      ],
      "metadata": {
        "id": "JcL4w9l2kv0m",
        "colab": {
          "base_uri": "https://localhost:8080/",
          "height": 699
        },
        "outputId": "dceeb2e6-3ed4-44e1-9476-854f7cf4e709"
      },
      "execution_count": 25,
      "outputs": [
        {
          "output_type": "stream",
          "name": "stdout",
          "text": [
            "Feature: 0, Score: 0.09094\n",
            "Feature: 1, Score: 0.03260\n",
            "Feature: 2, Score: 0.03358\n",
            "Feature: 3, Score: 0.01887\n",
            "Feature: 4, Score: 0.01253\n",
            "Feature: 5, Score: 0.01432\n",
            "Feature: 6, Score: 0.03264\n",
            "Feature: 7, Score: 0.02126\n",
            "Feature: 8, Score: 0.02699\n",
            "Feature: 9, Score: 0.05438\n",
            "Feature: 10, Score: 0.01248\n",
            "Feature: 11, Score: 0.01097\n",
            "Feature: 12, Score: 0.01789\n",
            "Feature: 13, Score: 0.05551\n",
            "Feature: 14, Score: 0.09685\n",
            "Feature: 15, Score: 0.05126\n",
            "Feature: 16, Score: 0.03113\n",
            "Feature: 17, Score: 0.02655\n",
            "Feature: 18, Score: 0.07066\n",
            "Feature: 19, Score: 0.11367\n",
            "Feature: 20, Score: 0.08944\n",
            "Feature: 21, Score: 0.01403\n",
            "Feature: 22, Score: 0.02899\n",
            "Feature: 23, Score: 0.01468\n",
            "Feature: 24, Score: 0.02778\n"
          ]
        },
        {
          "output_type": "display_data",
          "data": {
            "text/plain": [
              "<Figure size 432x288 with 1 Axes>"
            ],
            "image/png": "[encoded data removed]"
          },
          "metadata": {
            "needs_background": "light"
          }
        }
      ]
    },
    {
      "cell_type": "code",
      "source": [
        "model_rf.predict(X)"
      ],
      "metadata": {
        "id": "wxpxeMXKNERQ",
        "colab": {
          "base_uri": "https://localhost:8080/"
        },
        "outputId": "447cc401-ac1e-44a9-e1c9-ac9e7fa41615"
      },
      "execution_count": 26,
      "outputs": [
        {
          "output_type": "execute_result",
          "data": {
            "text/plain": [
              "array([0, 1, 1, ..., 0, 0, 1])"
            ]
          },
          "metadata": {},
          "execution_count": 26
        }
      ]
    },
    {
      "cell_type": "code",
      "source": [
        "cross_val_score(model_rf, X,y).mean()"
      ],
      "metadata": {
        "id": "kpAlUT_q5OL1",
        "colab": {
          "base_uri": "https://localhost:8080/"
        },
        "outputId": "91f44c8a-0d43-4bc1-bbad-9fb34deb735e"
      },
      "execution_count": 27,
      "outputs": [
        {
          "output_type": "execute_result",
          "data": {
            "text/plain": [
              "0.9148"
            ]
          },
          "metadata": {},
          "execution_count": 27
        }
      ]
    },
    {
      "cell_type": "code",
      "source": [
        "pca = PCA(0.999)\n",
        "pca.fit(X)\n",
        "\n",
        "X_components = pca.transform(X)\n",
        "mod_rf = RandomForestClassifier()\n",
        "mod_rf.fit(X_components,y)\n",
        "cross_val_score(mod_rf, X_components,y).mean()"
      ],
      "metadata": {
        "id": "NhBF23cO5b9P",
        "colab": {
          "base_uri": "https://localhost:8080/"
        },
        "outputId": "756f2f29-2a35-4f89-d3f3-2db663faa308"
      },
      "execution_count": 28,
      "outputs": [
        {
          "output_type": "execute_result",
          "data": {
            "text/plain": [
              "0.9048"
            ]
          },
          "metadata": {},
          "execution_count": 28
        }
      ]
    },
    {
      "cell_type": "code",
      "source": [
        "# Implementation Feature Engineering improves accuracy in 0.003 %"
      ],
      "metadata": {
        "id": "LhkPVmqB5ArX"
      },
      "execution_count": 29,
      "outputs": []
    },
    {
      "cell_type": "markdown",
      "source": [
        "# Random Forest (classification) Feature Importance"
      ],
      "metadata": {
        "id": "za_g_ZfalLAu"
      }
    },
    {
      "cell_type": "code",
      "source": [
        "\n",
        "# random forest for feature importance on a classification problem\n",
        "from sklearn.datasets import make_classification\n",
        "from sklearn.ensemble import RandomForestClassifier\n",
        "from matplotlib import pyplot\n",
        "# define dataset\n",
        "\n",
        "model_rfc = RandomForestClassifier(random_state=42)\n",
        "# fit the model\n",
        "model_rfc.fit(X, y)\n",
        "# get importance\n",
        "importance = model_rfc.feature_importances_\n",
        "# summarize feature importance\n",
        "for i,v in enumerate(importance):\n",
        "\tprint('Feature: %0d, Score: %.5f' % (i,v))\n",
        "# plot feature importance\n",
        "pyplot.bar([x for x in range(len(importance))], importance)\n",
        "pyplot.show()"
      ],
      "metadata": {
        "id": "Ag9wGBRplLae",
        "colab": {
          "base_uri": "https://localhost:8080/",
          "height": 699
        },
        "outputId": "9c2b2bfa-6ca9-4b5a-ea0e-2da06eaf9792"
      },
      "execution_count": 30,
      "outputs": [
        {
          "output_type": "stream",
          "name": "stdout",
          "text": [
            "Feature: 0, Score: 0.10448\n",
            "Feature: 1, Score: 0.03092\n",
            "Feature: 2, Score: 0.03874\n",
            "Feature: 3, Score: 0.02086\n",
            "Feature: 4, Score: 0.01252\n",
            "Feature: 5, Score: 0.01641\n",
            "Feature: 6, Score: 0.03144\n",
            "Feature: 7, Score: 0.02658\n",
            "Feature: 8, Score: 0.02874\n",
            "Feature: 9, Score: 0.05243\n",
            "Feature: 10, Score: 0.01263\n",
            "Feature: 11, Score: 0.01120\n",
            "Feature: 12, Score: 0.02290\n",
            "Feature: 13, Score: 0.04449\n",
            "Feature: 14, Score: 0.08711\n",
            "Feature: 15, Score: 0.04536\n",
            "Feature: 16, Score: 0.03069\n",
            "Feature: 17, Score: 0.03211\n",
            "Feature: 18, Score: 0.07450\n",
            "Feature: 19, Score: 0.10795\n",
            "Feature: 20, Score: 0.08089\n",
            "Feature: 21, Score: 0.01439\n",
            "Feature: 22, Score: 0.02562\n",
            "Feature: 23, Score: 0.01700\n",
            "Feature: 24, Score: 0.03003\n"
          ]
        },
        {
          "output_type": "display_data",
          "data": {
            "text/plain": [
              "<Figure size 432x288 with 1 Axes>"
            ],
            "image/png": "[encoded data removed]"
          },
          "metadata": {
            "needs_background": "light"
          }
        }
      ]
    },
    {
      "cell_type": "code",
      "source": [
        "cross_val_score(model_rfc,X,y).mean()"
      ],
      "metadata": {
        "id": "0cAxwSRh8UKX",
        "colab": {
          "base_uri": "https://localhost:8080/"
        },
        "outputId": "84e2bbfc-2976-4f8e-c991-93135b7c87c2"
      },
      "execution_count": 31,
      "outputs": [
        {
          "output_type": "execute_result",
          "data": {
            "text/plain": [
              "0.9136000000000001"
            ]
          },
          "metadata": {},
          "execution_count": 31
        }
      ]
    },
    {
      "cell_type": "code",
      "source": [
        "pca = PCA(0.9999)\n",
        "pca.fit(X)\n",
        "\n",
        "X_components = pca.transform(X)\n",
        "mod_rfc = RandomForestClassifier(random_state=42)\n",
        "mod_rfc.fit(X_components,y)\n",
        "cross_val_score(model_rfc, X_components,y).mean()"
      ],
      "metadata": {
        "id": "0MOotA1xljm9",
        "colab": {
          "base_uri": "https://localhost:8080/"
        },
        "outputId": "b41253a1-3482-4a2a-da44-0a4b42fc88a5"
      },
      "execution_count": 32,
      "outputs": [
        {
          "output_type": "execute_result",
          "data": {
            "text/plain": [
              "0.9064"
            ]
          },
          "metadata": {},
          "execution_count": 32
        }
      ]
    },
    {
      "cell_type": "code",
      "source": [
        "features = list(range(2,26))\n",
        "mean_accuracy = []\n",
        "\n",
        "for i in features:\n",
        "  pipe_rfc     = Pipeline([('rfe', RFE(estimator=RandomForestClassifier(random_state=42), n_features_to_select=i)),\n",
        "                     ('mod_rfc', RandomForestClassifier(random_state=42))])\n",
        "\n",
        "  pipe_rfc.fit(X, y)\n",
        "\n",
        "  scores = cross_val_score(pipe_rfc, X, y, cv=5)\n",
        "  mean_accuracy.append(scores.mean())\n",
        "\n",
        "print(mean_accuracy)\n",
        "\n"
      ],
      "metadata": {
        "id": "MsYJWmeSAf2A",
        "colab": {
          "base_uri": "https://localhost:8080/"
        },
        "outputId": "880968c2-ee93-4a9e-c8b5-7f8f8105e78b"
      },
      "execution_count": 33,
      "outputs": [
        {
          "output_type": "stream",
          "name": "stdout",
          "text": [
            "[0.8343999999999999, 0.8728, 0.8859999999999999, 0.8964000000000001, 0.9039999999999999, 0.9067999999999999, 0.9072000000000001, 0.9068000000000002, 0.9084, 0.9099999999999999, 0.9092, 0.9144, 0.9128000000000001, 0.9136000000000001, 0.9132, 0.914, 0.9148, 0.916, 0.9148000000000002, 0.9164000000000001, 0.9192, 0.9152000000000001, 0.916, 0.9136000000000001]\n"
          ]
        }
      ]
    },
    {
      "cell_type": "code",
      "source": [
        "k_df = pd.DataFrame(features)\n",
        "k_df.rename({0:'Number of Features'}, axis=1, inplace=True)\n",
        "\n",
        "mean_accuracy_df = pd.DataFrame(mean_accuracy)*100\n",
        "mean_accuracy_df.rename({0:'mean accuracy'}, axis=1, inplace=True)\n",
        "\n",
        "to_plot = pd.concat([k_df, mean_accuracy_df], axis=1)\n",
        "\n",
        "plt.plot(to_plot['Number of Features'], to_plot['mean accuracy'])\n",
        "plt.xlabel('Number of Features')\n",
        "plt.ylabel('Mean accuracy %')\n",
        "plt.show()"
      ],
      "metadata": {
        "id": "nGZmDM9CBkBp",
        "colab": {
          "base_uri": "https://localhost:8080/",
          "height": 279
        },
        "outputId": "410e8787-5080-4f35-8a40-258ccfa74322"
      },
      "execution_count": 34,
      "outputs": [
        {
          "output_type": "display_data",
          "data": {
            "text/plain": [
              "<Figure size 432x288 with 1 Axes>"
            ],
            "image/png": "[encoded data removed]"
          },
          "metadata": {
            "needs_background": "light"
          }
        }
      ]
    },
    {
      "cell_type": "code",
      "source": [
        "pipe_rfc13     = Pipeline([('rfe', RFE(estimator=RandomForestClassifier(random_state=42), n_features_to_select=13)),\n",
        "                     ('mod_rfc', RandomForestClassifier(random_state=42))])\n",
        "\n",
        "pipe_rfc13.fit(X, y)\n",
        "cross_val_score(pipe_rfc13,X,y).mean()"
      ],
      "metadata": {
        "id": "srA6QLfmD6hJ",
        "colab": {
          "base_uri": "https://localhost:8080/"
        },
        "outputId": "031a5dd9-b7ee-4326-902a-db986df986e2"
      },
      "execution_count": 35,
      "outputs": [
        {
          "output_type": "execute_result",
          "data": {
            "text/plain": [
              "0.9144"
            ]
          },
          "metadata": {},
          "execution_count": 35
        }
      ]
    },
    {
      "cell_type": "code",
      "source": [
        "# Implementation Feature Engineering for Random Forest algorithm doesn't give us any improvement. "
      ],
      "metadata": {
        "id": "_JkF9hVdGFW4"
      },
      "execution_count": 36,
      "outputs": []
    },
    {
      "cell_type": "markdown",
      "source": [
        "# Permutation Feature Importance with KNN for Classification Model"
      ],
      "metadata": {
        "id": "oIAhbcNnl5bt"
      }
    },
    {
      "cell_type": "code",
      "source": [
        "\n",
        "# permutation feature importance with knn for regression\n",
        "from sklearn.datasets import make_regression\n",
        "from sklearn.neighbors import KNeighborsClassifier\n",
        "from sklearn.inspection import permutation_importance\n",
        "from matplotlib import pyplot\n",
        "\n",
        "model_knnc = KNeighborsClassifier()\n",
        "# fit the model\n",
        "model_knnc.fit(X, y)\n",
        "# perform permutation importance\n",
        "results = permutation_importance(model_knnc, X, y, scoring='neg_mean_squared_error')\n",
        "# get importance\n",
        "importance = results.importances_mean\n",
        "# summarize feature importance\n",
        "for i,v in enumerate(importance):\n",
        "\tprint('Feature: %0d, Score: %.5f' % (i,v))\n",
        "# plot feature importance\n",
        "pyplot.bar([x for x in range(len(importance))], importance)\n",
        "pyplot.show()"
      ],
      "metadata": {
        "id": "8FVIOEBpl53G",
        "colab": {
          "base_uri": "https://localhost:8080/",
          "height": 699
        },
        "outputId": "49b6d974-0de2-4f7f-aff3-df33e7e981ba"
      },
      "execution_count": 37,
      "outputs": [
        {
          "output_type": "stream",
          "name": "stdout",
          "text": [
            "Feature: 0, Score: 0.01176\n",
            "Feature: 1, Score: 0.00664\n",
            "Feature: 2, Score: -0.00120\n",
            "Feature: 3, Score: -0.00016\n",
            "Feature: 4, Score: -0.00008\n",
            "Feature: 5, Score: 0.01768\n",
            "Feature: 6, Score: 0.00608\n",
            "Feature: 7, Score: 0.00072\n",
            "Feature: 8, Score: 0.01328\n",
            "Feature: 9, Score: -0.00048\n",
            "Feature: 10, Score: 0.00240\n",
            "Feature: 11, Score: -0.00096\n",
            "Feature: 12, Score: -0.00064\n",
            "Feature: 13, Score: 0.00256\n",
            "Feature: 14, Score: 0.00768\n",
            "Feature: 15, Score: 0.03000\n",
            "Feature: 16, Score: 0.01144\n",
            "Feature: 17, Score: 0.00304\n",
            "Feature: 18, Score: 0.00232\n",
            "Feature: 19, Score: 0.00240\n",
            "Feature: 20, Score: 0.01664\n",
            "Feature: 21, Score: -0.00016\n",
            "Feature: 22, Score: 0.00336\n",
            "Feature: 23, Score: 0.00528\n",
            "Feature: 24, Score: -0.00048\n"
          ]
        },
        {
          "output_type": "display_data",
          "data": {
            "text/plain": [
              "<Figure size 432x288 with 1 Axes>"
            ],
            "image/png": "[encoded data removed]"
          },
          "metadata": {
            "needs_background": "light"
          }
        }
      ]
    },
    {
      "cell_type": "markdown",
      "source": [
        "Permutation feature Importance "
      ],
      "metadata": {
        "id": "OPWIRP-YmtgR"
      }
    },
    {
      "cell_type": "code",
      "source": [
        "cross_val_score(model_knnc,X,y).mean()"
      ],
      "metadata": {
        "id": "G7XKhnuCmtuP",
        "colab": {
          "base_uri": "https://localhost:8080/"
        },
        "outputId": "49f41928-c745-4858-d7f5-4a2fe871e0c8"
      },
      "execution_count": 38,
      "outputs": [
        {
          "output_type": "execute_result",
          "data": {
            "text/plain": [
              "0.9036"
            ]
          },
          "metadata": {},
          "execution_count": 38
        }
      ]
    },
    {
      "cell_type": "code",
      "source": [
        "model_knnc.predict(X_df)"
      ],
      "metadata": {
        "id": "wTAod13TOLYt",
        "colab": {
          "base_uri": "https://localhost:8080/"
        },
        "outputId": "da5be059-ce85-47c2-be84-2ccace7d94ad"
      },
      "execution_count": 39,
      "outputs": [
        {
          "output_type": "execute_result",
          "data": {
            "text/plain": [
              "array([0, 1, 1, ..., 0, 0, 1])"
            ]
          },
          "metadata": {},
          "execution_count": 39
        }
      ]
    },
    {
      "cell_type": "code",
      "source": [
        "pca = PCA(0.99999)\n",
        "pca.fit(X)\n",
        "\n",
        "X_components = pca.transform(X)\n",
        "model_knnc.fit(X_components,y)\n",
        "print(cross_val_score(model_knnc, X,y).mean())\n",
        "print(cross_val_score(model_knnc, X_components,y).mean())"
      ],
      "metadata": {
        "id": "Xa4x4Atq-ac5",
        "colab": {
          "base_uri": "https://localhost:8080/"
        },
        "outputId": "78499230-8b72-48a3-8d36-2808b68ea86b"
      },
      "execution_count": 40,
      "outputs": [
        {
          "output_type": "stream",
          "name": "stdout",
          "text": [
            "0.9036\n",
            "0.9036\n"
          ]
        }
      ]
    },
    {
      "cell_type": "code",
      "source": [
        "# Using PCA on KNN Classifier does not change the accuracy at all. "
      ],
      "metadata": {
        "id": "WfUOKtDPHzSJ"
      },
      "execution_count": 41,
      "outputs": []
    },
    {
      "cell_type": "code",
      "source": [
        "###################################################################\n",
        "###### Xgboost Classification in Python #######\n",
        "import pandas as pd\n",
        "from xgboost import XGBClassifier\n",
        "model_XGBC =XGBClassifier(max_depth=3, learning_rate=0.1, n_estimators=500, objective='binary:logistic', booster='gbtree')\n",
        " \n",
        "#Printing all the parameters of XGBoost\n",
        "print(model_XGBC)\n",
        " \n",
        "#Creating the model on Training Data\n",
        "XGBC=model_XGBC.fit(X,y)\n",
        "prediction=XGBC.predict(X)\n",
        " \n",
        "#Measuring accuracy on Testing Data\n",
        "from sklearn import metrics\n",
        "print(metrics.classification_report(y, prediction))\n",
        "print(metrics.confusion_matrix(y, prediction))\n",
        " "
      ],
      "metadata": {
        "id": "YiRvA6zmNqNh",
        "colab": {
          "base_uri": "https://localhost:8080/"
        },
        "outputId": "9314efda-dcff-45ce-8ca6-8a8f036626f8"
      },
      "execution_count": 42,
      "outputs": [
        {
          "output_type": "stream",
          "name": "stdout",
          "text": [
            "XGBClassifier(n_estimators=500)\n",
            "              precision    recall  f1-score   support\n",
            "\n",
            "           0       1.00      1.00      1.00      1256\n",
            "           1       1.00      1.00      1.00      1244\n",
            "\n",
            "    accuracy                           1.00      2500\n",
            "   macro avg       1.00      1.00      1.00      2500\n",
            "weighted avg       1.00      1.00      1.00      2500\n",
            "\n",
            "[[1253    3]\n",
            " [   0 1244]]\n"
          ]
        }
      ]
    },
    {
      "cell_type": "code",
      "source": [
        "pca = PCA(0.99999)\n",
        "pca.fit(X)\n",
        "\n",
        "X_components = pca.transform(X)\n",
        "model_XGBC.fit(X_components,y)\n",
        "print(cross_val_score(XGBC, X,y).mean())\n",
        "print(cross_val_score(model_XGBC, X_components,y).mean())"
      ],
      "metadata": {
        "id": "q4lbQmPAJ3ms",
        "colab": {
          "base_uri": "https://localhost:8080/"
        },
        "outputId": "d292ea3f-1f68-4013-acae-71a3558abbfc"
      },
      "execution_count": 43,
      "outputs": [
        {
          "output_type": "stream",
          "name": "stdout",
          "text": [
            "0.9148\n",
            "0.8912000000000001\n"
          ]
        }
      ]
    },
    {
      "cell_type": "code",
      "source": [
        "# Summary:  \n",
        "# LogisticRegression: Application of Recursive Feature Elimination (RFE) gave insignificant improvement, but Principal Component Analisys doen't help to improve the prediction.\n",
        "# KNN Regression and Random Forest: application of feature engineering doen't changed the result of prediction. \n",
        "# Inplementation feature enginiring for XB BOOST Classifier improve accuracy in 0.002% \n",
        "# XGBoost: application of PCA (Principal Component Analysis) even decreased accuracy form 91 to 89 %. \n"
      ],
      "metadata": {
        "id": "Pj5wdA8wQb-_"
      },
      "execution_count": 44,
      "outputs": []
    }
  ]
}