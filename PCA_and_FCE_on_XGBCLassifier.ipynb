{
  "nbformat": 4,
  "nbformat_minor": 0,
  "metadata": {
    "colab": {
      "provenance": [],
      "authorship_tag": "ABX9TyNFkyHTc/ZX6MQgNv2FQnxB",
      "include_colab_link": true
    },
    "kernelspec": {
      "name": "python3",
      "display_name": "Python 3"
    },
    "language_info": {
      "name": "python"
    }
  },
  "cells": [
    {
      "cell_type": "markdown",
      "metadata": {
        "id": "view-in-github",
        "colab_type": "text"
      },
      "source": [
        "<a href=\"https://colab.research.google.com/github/OlgaPriyutova/Feature-Importance-and-Feature-Engineering-/blob/main/PCA_and_FCE_on_XGBCLassifier.ipynb\" target=\"_parent\"><img src=\"https://colab.research.google.com/assets/colab-badge.svg\" alt=\"Open In Colab\"/></a>"
      ]
    },
    {
      "cell_type": "code",
      "execution_count": null,
      "metadata": {
        "id": "4n4x_dTsBkcu"
      },
      "outputs": [],
      "source": [
        "import sklearn\n",
        "import pandas as pd\n",
        "import numpy as np\n",
        "import matplotlib.pyplot as plt\n",
        "from sklearn.pipeline import Pipeline\n",
        "from sklearn.model_selection import cross_val_score\n",
        "from sklearn.feature_selection import RFE\n",
        "from sklearn.preprocessing import StandardScaler\n",
        "from sklearn.decomposition import PCA\n",
        "from sklearn.datasets import make_classification\n",
        "from sklearn import metrics"
      ]
    },
    {
      "cell_type": "code",
      "source": [
        "from xgboost import XGBClassifier\n"
      ],
      "metadata": {
        "id": "IAk26QjDBnOG"
      },
      "execution_count": null,
      "outputs": []
    },
    {
      "cell_type": "code",
      "source": [
        "\n",
        "# test classification dataset\n",
        "from sklearn.datasets import make_classification\n",
        "# define dataset\n",
        "X, y = make_classification(n_samples=2500, n_features=25, n_informative=5, n_redundant=20, random_state=42)\n",
        "# summarize the dataset\n",
        "print(X.shape, y.shape)\n"
      ],
      "metadata": {
        "colab": {
          "base_uri": "https://localhost:8080/"
        },
        "id": "sUq_oYJzBqsm",
        "outputId": "cf50f86b-5e97-4440-9200-3fe70d50000b"
      },
      "execution_count": null,
      "outputs": [
        {
          "output_type": "stream",
          "name": "stdout",
          "text": [
            "(2500, 25) (2500,)\n"
          ]
        }
      ]
    },
    {
      "cell_type": "code",
      "source": [
        "X=pd.DataFrame(X)\n",
        "X.head(3)"
      ],
      "metadata": {
        "colab": {
          "base_uri": "https://localhost:8080/",
          "height": 237
        },
        "id": "m6UZ_DRLCNTt",
        "outputId": "aad054dc-825b-4a04-cb20-202f1ceeb637"
      },
      "execution_count": null,
      "outputs": [
        {
          "output_type": "execute_result",
          "data": {
            "text/plain": [
              "         0         1         2         3         4         5         6   \\\n",
              "0  0.541429 -4.318897 -1.642974  1.968950  0.717840 -2.295741 -2.104132   \n",
              "1 -0.177967  0.092083 -2.124335  0.192293 -3.826816 -3.248624  1.051480   \n",
              "2 -0.274580 -0.053376 -0.987567  0.268126 -2.069771 -1.700350  0.623295   \n",
              "\n",
              "         7         8         9   ...        15        16        17        18  \\\n",
              "0  0.814007  1.033471 -0.065134  ... -0.439019  3.476117  2.056304 -0.730376   \n",
              "1 -1.751444 -1.710400 -0.777456  ... -2.319364 -1.035908  1.826485  0.473686   \n",
              "2 -0.755680 -0.389871 -0.432745  ... -1.375098 -0.841344  1.242397  0.004372   \n",
              "\n",
              "         19        20        21        22        23        24  \n",
              "0 -1.805060 -2.163203 -1.233533 -0.678113  1.369870 -0.386439  \n",
              "1  1.396610  0.064954  4.857308 -2.672626  2.405192  0.703491  \n",
              "2  0.641676  0.472366  2.364901 -1.134208  1.139679  0.453794  \n",
              "\n",
              "[3 rows x 25 columns]"
            ],
            "text/html": [
              "\n",
              "  <div id=\"df-0310aade-e7b3-4f08-bf53-07ec93c68472\">\n",
              "    <div class=\"colab-df-container\">\n",
              "      <div>\n",
              "<style scoped>\n",
              "    .dataframe tbody tr th:only-of-type {\n",
              "        vertical-align: middle;\n",
              "    }\n",
              "\n",
              "    .dataframe tbody tr th {\n",
              "        vertical-align: top;\n",
              "    }\n",
              "\n",
              "    .dataframe thead th {\n",
              "        text-align: right;\n",
              "    }\n",
              "</style>\n",
              "<table border=\"1\" class=\"dataframe\">\n",
              "  <thead>\n",
              "    <tr style=\"text-align: right;\">\n",
              "      <th></th>\n",
              "      <th>0</th>\n",
              "      <th>1</th>\n",
              "      <th>2</th>\n",
              "      <th>3</th>\n",
              "      <th>4</th>\n",
              "      <th>5</th>\n",
              "      <th>6</th>\n",
              "      <th>7</th>\n",
              "      <th>8</th>\n",
              "      <th>9</th>\n",
              "      <th>...</th>\n",
              "      <th>15</th>\n",
              "      <th>16</th>\n",
              "      <th>17</th>\n",
              "      <th>18</th>\n",
              "      <th>19</th>\n",
              "      <th>20</th>\n",
              "      <th>21</th>\n",
              "      <th>22</th>\n",
              "      <th>23</th>\n",
              "      <th>24</th>\n",
              "    </tr>\n",
              "  </thead>\n",
              "  <tbody>\n",
              "    <tr>\n",
              "      <th>0</th>\n",
              "      <td>0.541429</td>\n",
              "      <td>-4.318897</td>\n",
              "      <td>-1.642974</td>\n",
              "      <td>1.968950</td>\n",
              "      <td>0.717840</td>\n",
              "      <td>-2.295741</td>\n",
              "      <td>-2.104132</td>\n",
              "      <td>0.814007</td>\n",
              "      <td>1.033471</td>\n",
              "      <td>-0.065134</td>\n",
              "      <td>...</td>\n",
              "      <td>-0.439019</td>\n",
              "      <td>3.476117</td>\n",
              "      <td>2.056304</td>\n",
              "      <td>-0.730376</td>\n",
              "      <td>-1.805060</td>\n",
              "      <td>-2.163203</td>\n",
              "      <td>-1.233533</td>\n",
              "      <td>-0.678113</td>\n",
              "      <td>1.369870</td>\n",
              "      <td>-0.386439</td>\n",
              "    </tr>\n",
              "    <tr>\n",
              "      <th>1</th>\n",
              "      <td>-0.177967</td>\n",
              "      <td>0.092083</td>\n",
              "      <td>-2.124335</td>\n",
              "      <td>0.192293</td>\n",
              "      <td>-3.826816</td>\n",
              "      <td>-3.248624</td>\n",
              "      <td>1.051480</td>\n",
              "      <td>-1.751444</td>\n",
              "      <td>-1.710400</td>\n",
              "      <td>-0.777456</td>\n",
              "      <td>...</td>\n",
              "      <td>-2.319364</td>\n",
              "      <td>-1.035908</td>\n",
              "      <td>1.826485</td>\n",
              "      <td>0.473686</td>\n",
              "      <td>1.396610</td>\n",
              "      <td>0.064954</td>\n",
              "      <td>4.857308</td>\n",
              "      <td>-2.672626</td>\n",
              "      <td>2.405192</td>\n",
              "      <td>0.703491</td>\n",
              "    </tr>\n",
              "    <tr>\n",
              "      <th>2</th>\n",
              "      <td>-0.274580</td>\n",
              "      <td>-0.053376</td>\n",
              "      <td>-0.987567</td>\n",
              "      <td>0.268126</td>\n",
              "      <td>-2.069771</td>\n",
              "      <td>-1.700350</td>\n",
              "      <td>0.623295</td>\n",
              "      <td>-0.755680</td>\n",
              "      <td>-0.389871</td>\n",
              "      <td>-0.432745</td>\n",
              "      <td>...</td>\n",
              "      <td>-1.375098</td>\n",
              "      <td>-0.841344</td>\n",
              "      <td>1.242397</td>\n",
              "      <td>0.004372</td>\n",
              "      <td>0.641676</td>\n",
              "      <td>0.472366</td>\n",
              "      <td>2.364901</td>\n",
              "      <td>-1.134208</td>\n",
              "      <td>1.139679</td>\n",
              "      <td>0.453794</td>\n",
              "    </tr>\n",
              "  </tbody>\n",
              "</table>\n",
              "<p>3 rows × 25 columns</p>\n",
              "</div>\n",
              "      <button class=\"colab-df-convert\" onclick=\"convertToInteractive('df-0310aade-e7b3-4f08-bf53-07ec93c68472')\"\n",
              "              title=\"Convert this dataframe to an interactive table.\"\n",
              "              style=\"display:none;\">\n",
              "        \n",
              "  <svg xmlns=\"http://www.w3.org/2000/svg\" height=\"24px\"viewBox=\"0 0 24 24\"\n",
              "       width=\"24px\">\n",
              "    <path d=\"M0 0h24v24H0V0z\" fill=\"none\"/>\n",
              "    <path d=\"M18.56 5.44l.94 2.06.94-2.06 2.06-.94-2.06-.94-.94-2.06-.94 2.06-2.06.94zm-11 1L8.5 8.5l.94-2.06 2.06-.94-2.06-.94L8.5 2.5l-.94 2.06-2.06.94zm10 10l.94 2.06.94-2.06 2.06-.94-2.06-.94-.94-2.06-.94 2.06-2.06.94z\"/><path d=\"M17.41 7.96l-1.37-1.37c-.4-.4-.92-.59-1.43-.59-.52 0-1.04.2-1.43.59L10.3 9.45l-7.72 7.72c-.78.78-.78 2.05 0 2.83L4 21.41c.39.39.9.59 1.41.59.51 0 1.02-.2 1.41-.59l7.78-7.78 2.81-2.81c.8-.78.8-2.07 0-2.86zM5.41 20L4 18.59l7.72-7.72 1.47 1.35L5.41 20z\"/>\n",
              "  </svg>\n",
              "      </button>\n",
              "      \n",
              "  <style>\n",
              "    .colab-df-container {\n",
              "      display:flex;\n",
              "      flex-wrap:wrap;\n",
              "      gap: 12px;\n",
              "    }\n",
              "\n",
              "    .colab-df-convert {\n",
              "      background-color: #E8F0FE;\n",
              "      border: none;\n",
              "      border-radius: 50%;\n",
              "      cursor: pointer;\n",
              "      display: none;\n",
              "      fill: #1967D2;\n",
              "      height: 32px;\n",
              "      padding: 0 0 0 0;\n",
              "      width: 32px;\n",
              "    }\n",
              "\n",
              "    .colab-df-convert:hover {\n",
              "      background-color: #E2EBFA;\n",
              "      box-shadow: 0px 1px 2px rgba(60, 64, 67, 0.3), 0px 1px 3px 1px rgba(60, 64, 67, 0.15);\n",
              "      fill: #174EA6;\n",
              "    }\n",
              "\n",
              "    [theme=dark] .colab-df-convert {\n",
              "      background-color: #3B4455;\n",
              "      fill: #D2E3FC;\n",
              "    }\n",
              "\n",
              "    [theme=dark] .colab-df-convert:hover {\n",
              "      background-color: #434B5C;\n",
              "      box-shadow: 0px 1px 3px 1px rgba(0, 0, 0, 0.15);\n",
              "      filter: drop-shadow(0px 1px 2px rgba(0, 0, 0, 0.3));\n",
              "      fill: #FFFFFF;\n",
              "    }\n",
              "  </style>\n",
              "\n",
              "      <script>\n",
              "        const buttonEl =\n",
              "          document.querySelector('#df-0310aade-e7b3-4f08-bf53-07ec93c68472 button.colab-df-convert');\n",
              "        buttonEl.style.display =\n",
              "          google.colab.kernel.accessAllowed ? 'block' : 'none';\n",
              "\n",
              "        async function convertToInteractive(key) {\n",
              "          const element = document.querySelector('#df-0310aade-e7b3-4f08-bf53-07ec93c68472');\n",
              "          const dataTable =\n",
              "            await google.colab.kernel.invokeFunction('convertToInteractive',\n",
              "                                                     [key], {});\n",
              "          if (!dataTable) return;\n",
              "\n",
              "          const docLinkHtml = 'Like what you see? Visit the ' +\n",
              "            '<a target=\"_blank\" href=https://colab.research.google.com/notebooks/data_table.ipynb>data table notebook</a>'\n",
              "            + ' to learn more about interactive tables.';\n",
              "          element.innerHTML = '';\n",
              "          dataTable['output_type'] = 'display_data';\n",
              "          await google.colab.output.renderOutput(dataTable, element);\n",
              "          const docLink = document.createElement('div');\n",
              "          docLink.innerHTML = docLinkHtml;\n",
              "          element.appendChild(docLink);\n",
              "        }\n",
              "      </script>\n",
              "    </div>\n",
              "  </div>\n",
              "  "
            ]
          },
          "metadata": {},
          "execution_count": 21
        }
      ]
    },
    {
      "cell_type": "code",
      "source": [
        "# logistic regression for feature importance\n",
        "\n",
        "# define the model\n",
        "model=XGBClassifier(max_depth=3, learning_rate=0.1, n_estimators=500, objective='binary:logistic', booster='gbtree')\n",
        " \n",
        "# fit the model\n",
        "model = model.fit(X, y)\n",
        "# get importance\n"
      ],
      "metadata": {
        "id": "HVhc9bCqCClu"
      },
      "execution_count": null,
      "outputs": []
    },
    {
      "cell_type": "code",
      "source": [
        "print('Cross validation accuracy:',cross_val_score(model, X,y).mean())\n",
        "print('Accuracy:',model.score(X,y))\n"
      ],
      "metadata": {
        "colab": {
          "base_uri": "https://localhost:8080/"
        },
        "id": "SP6IePD_DWrH",
        "outputId": "2f2140ee-aebe-4d18-ae95-267097b935b5"
      },
      "execution_count": null,
      "outputs": [
        {
          "output_type": "stream",
          "name": "stdout",
          "text": [
            "Cross validation accuracy: 0.9148\n",
            "Accuracy: 0.9988\n"
          ]
        }
      ]
    },
    {
      "cell_type": "code",
      "source": [
        "# Check how many feachures we need for the highest accuracy: \n",
        "\n"
      ],
      "metadata": {
        "id": "DXRuu3zfERSM"
      },
      "execution_count": null,
      "outputs": []
    },
    {
      "cell_type": "code",
      "source": [
        "features = list(range(2,26))\n",
        "mean_accuracy = []\n",
        "\n",
        "for i in features:\n",
        "  pipe     = Pipeline([('scaler', StandardScaler()), \n",
        "                     ('rfe', RFE(estimator=XGBClassifier(max_depth=3, learning_rate=0.1, n_estimators=500, objective='binary:logistic', booster='gbtree'), n_features_to_select=i)),\n",
        "                     ('log_reg', XGBClassifier(max_depth=3, learning_rate=0.1, n_estimators=500, objective='binary:logistic', booster='gbtree'))])\n",
        "  \n",
        "  \n",
        "  pipe.fit(X,y)\n",
        "\n",
        "  scores = cross_val_score(pipe, X, y, cv=5)\n",
        "  \n",
        "  mean_accuracy.append(scores.mean())\n",
        "\n",
        "print(mean_accuracy)"
      ],
      "metadata": {
        "colab": {
          "base_uri": "https://localhost:8080/"
        },
        "id": "LMi1BEq5EiEe",
        "outputId": "46765361-df64-4ca5-db4c-c043a969eef2"
      },
      "execution_count": null,
      "outputs": [
        {
          "output_type": "stream",
          "name": "stdout",
          "text": [
            "[0.85, 0.8708, 0.8976000000000001, 0.8968, 0.8964000000000001, 0.9056000000000001, 0.9056, 0.9048, 0.906, 0.9096, 0.9088, 0.9132, 0.9108, 0.9096, 0.9156000000000001, 0.9108, 0.9168, 0.9168000000000001, 0.9132000000000001, 0.9188000000000001, 0.9164000000000001, 0.9124000000000001, 0.9168, 0.9148]\n"
          ]
        }
      ]
    },
    {
      "cell_type": "code",
      "source": [
        "k_df = pd.DataFrame(features)\n",
        "k_df.rename({0:'Number of Features'}, axis=1, inplace=True)\n",
        "\n",
        "mean_accuracy_df = pd.DataFrame(mean_accuracy)*100\n",
        "mean_accuracy_df.rename({0:'mean accuracy'}, axis=1, inplace=True)\n",
        "\n",
        "to_plot = pd.concat([k_df, mean_accuracy_df], axis=1)\n",
        "\n",
        "plt.plot(to_plot['Number of Features'], to_plot['mean accuracy'])\n",
        "plt.xlabel('Number of Features')\n",
        "plt.ylabel('Mean accuracy %')\n",
        "plt.show()"
      ],
      "metadata": {
        "colab": {
          "base_uri": "https://localhost:8080/",
          "height": 279
        },
        "id": "nTS8K5rPEvd-",
        "outputId": "446a21e0-eee5-41db-a492-4c8a5841b1c5"
      },
      "execution_count": null,
      "outputs": [
        {
          "output_type": "display_data",
          "data": {
            "text/plain": [
              "<Figure size 432x288 with 1 Axes>"
            ],
            "image/png": "[encoded data removed]"
          },
          "metadata": {
            "needs_background": "light"
          }
        }
      ]
    },
    {
      "cell_type": "code",
      "source": [
        "# 5 features are enough for highest accuracy.  "
      ],
      "metadata": {
        "id": "MPm-dUeSEwR1"
      },
      "execution_count": null,
      "outputs": []
    },
    {
      "cell_type": "code",
      "source": [
        "#Let us check which features are important and apply them directly: "
      ],
      "metadata": {
        "id": "1PtY1CtiFKJv"
      },
      "execution_count": null,
      "outputs": []
    },
    {
      "cell_type": "code",
      "source": [
        "pca = PCA(0.999)\n",
        "pca.fit(X)\n",
        "\n",
        "X_components = pca.transform(X)\n",
        "\n",
        "print('Before Feature Engineering:', cross_val_score(model, X,y).mean())\n"
      ],
      "metadata": {
        "colab": {
          "base_uri": "https://localhost:8080/"
        },
        "id": "iZ-0oTPMFK7U",
        "outputId": "6026007a-692b-449e-ca7f-fca4c6992fba"
      },
      "execution_count": null,
      "outputs": [
        {
          "output_type": "stream",
          "name": "stdout",
          "text": [
            "Before Feature Engineering: 0.9148\n"
          ]
        }
      ]
    },
    {
      "cell_type": "code",
      "source": [
        "print('After Feature Engineering:', cross_val_score(model, X_components,y).mean())"
      ],
      "metadata": {
        "colab": {
          "base_uri": "https://localhost:8080/"
        },
        "id": "0AWfZNx6G2Gs",
        "outputId": "55004d36-a5a0-4b43-db90-8d1ed7d4e708"
      },
      "execution_count": null,
      "outputs": [
        {
          "output_type": "stream",
          "name": "stdout",
          "text": [
            "After Feature Engineering: 0.8912000000000001\n"
          ]
        }
      ]
    },
    {
      "cell_type": "code",
      "source": [
        "\n",
        "prediction=model.predict(X)"
      ],
      "metadata": {
        "id": "Q3SvJPP1NA2b"
      },
      "execution_count": null,
      "outputs": []
    },
    {
      "cell_type": "code",
      "source": [
        "#Measuring accuracy on Testing Data\n",
        "print(metrics.classification_report(y, prediction))\n",
        "print(metrics.confusion_matrix(y, prediction))"
      ],
      "metadata": {
        "colab": {
          "base_uri": "https://localhost:8080/"
        },
        "id": "I38ChD4yN7Jp",
        "outputId": "b8e94243-9ed4-4713-c2c9-0fa04eb9932b"
      },
      "execution_count": null,
      "outputs": [
        {
          "output_type": "stream",
          "name": "stdout",
          "text": [
            "              precision    recall  f1-score   support\n",
            "\n",
            "           0       1.00      1.00      1.00      1256\n",
            "           1       1.00      1.00      1.00      1244\n",
            "\n",
            "    accuracy                           1.00      2500\n",
            "   macro avg       1.00      1.00      1.00      2500\n",
            "weighted avg       1.00      1.00      1.00      2500\n",
            "\n",
            "[[1253    3]\n",
            " [   0 1244]]\n"
          ]
        }
      ]
    }
  ]
}